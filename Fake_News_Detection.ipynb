{
  "nbformat": 4,
  "nbformat_minor": 0,
  "metadata": {
    "colab": {
      "provenance": [],
      "authorship_tag": "ABX9TyMpo3y4sc90qNlT2+CYPFEN",
      "include_colab_link": true
    },
    "kernelspec": {
      "name": "python3",
      "display_name": "Python 3"
    },
    "language_info": {
      "name": "python"
    }
  },
  "cells": [
    {
      "cell_type": "markdown",
      "metadata": {
        "id": "view-in-github",
        "colab_type": "text"
      },
      "source": [
        "<a href=\"https://colab.research.google.com/github/Parimala-15/Brainwave_Matrix_Intern_AI-ML/blob/main/Fake_News_Detection.ipynb\" target=\"_parent\"><img src=\"https://colab.research.google.com/assets/colab-badge.svg\" alt=\"Open In Colab\"/></a>"
      ]
    },
    {
      "cell_type": "markdown",
      "source": [
        "Fake News = 1; Real News = 0;"
      ],
      "metadata": {
        "id": "bfEzsRq2uX9S"
      }
    },
    {
      "cell_type": "markdown",
      "source": [
        "Importing necessary libraries."
      ],
      "metadata": {
        "id": "HQi8SgSqui2X"
      }
    },
    {
      "cell_type": "code",
      "source": [
        "import numpy as np\n",
        "import pandas as pd\n",
        "import re #regular expression for searching word in a paragraph\n",
        "from nltk.corpus import stopwords # Library for natural language processing, specifically for stop words\n",
        "from nltk.stem.porter import PorterStemmer #gives root words for a particular word\n",
        "from sklearn.feature_extraction.text import TfidfVectorizer #converts text into feature vectors\n",
        "from sklearn.model_selection import train_test_split # Splits data into training and testing sets\n",
        "from sklearn.linear_model import LogisticRegression # Logistic Regression model for classification\n",
        "from sklearn.metrics import accuracy_score # Metric to evaluate model performance"
      ],
      "metadata": {
        "id": "ciD8_iFxuiNA"
      },
      "execution_count": 1,
      "outputs": []
    },
    {
      "cell_type": "markdown",
      "source": [
        "Using logistic regression as a model allows for binary classification, such as distinguishing between fake news and real news articles based on extracted features."
      ],
      "metadata": {
        "id": "WmOR1O4p-8II"
      }
    },
    {
      "cell_type": "markdown",
      "source": [
        "Natural Language Processing (NLP) libraries, such as NLTK, help in managing text data effectively by providing tools for tasks like stemming and removing stop words."
      ],
      "metadata": {
        "id": "lEM_b24v-ylq"
      }
    },
    {
      "cell_type": "markdown",
      "source": [],
      "metadata": {
        "id": "LLncj0wJ-7IY"
      }
    },
    {
      "cell_type": "code",
      "source": [
        "import nltk\n",
        "nltk.download('stopwords') # Downloads the list of common English stop words"
      ],
      "metadata": {
        "colab": {
          "base_uri": "https://localhost:8080/"
        },
        "id": "dfG8kXOOuXiZ",
        "outputId": "3cf0bc17-7612-4852-de65-5186f9974cb8"
      },
      "execution_count": 2,
      "outputs": [
        {
          "output_type": "stream",
          "name": "stderr",
          "text": [
            "[nltk_data] Downloading package stopwords to /root/nltk_data...\n",
            "[nltk_data]   Unzipping corpora/stopwords.zip.\n"
          ]
        },
        {
          "output_type": "execute_result",
          "data": {
            "text/plain": [
              "True"
            ]
          },
          "metadata": {},
          "execution_count": 2
        }
      ]
    },
    {
      "cell_type": "code",
      "source": [
        "print(stopwords.words('english')) # these words doesn't add much value to the dataset so we remove it."
      ],
      "metadata": {
        "colab": {
          "base_uri": "https://localhost:8080/"
        },
        "id": "k_8R1TYGwqFC",
        "outputId": "6e52461f-6554-4497-d7e1-2938bbc33b43"
      },
      "execution_count": 3,
      "outputs": [
        {
          "output_type": "stream",
          "name": "stdout",
          "text": [
            "['a', 'about', 'above', 'after', 'again', 'against', 'ain', 'all', 'am', 'an', 'and', 'any', 'are', 'aren', \"aren't\", 'as', 'at', 'be', 'because', 'been', 'before', 'being', 'below', 'between', 'both', 'but', 'by', 'can', 'couldn', \"couldn't\", 'd', 'did', 'didn', \"didn't\", 'do', 'does', 'doesn', \"doesn't\", 'doing', 'don', \"don't\", 'down', 'during', 'each', 'few', 'for', 'from', 'further', 'had', 'hadn', \"hadn't\", 'has', 'hasn', \"hasn't\", 'have', 'haven', \"haven't\", 'having', 'he', \"he'd\", \"he'll\", 'her', 'here', 'hers', 'herself', \"he's\", 'him', 'himself', 'his', 'how', 'i', \"i'd\", 'if', \"i'll\", \"i'm\", 'in', 'into', 'is', 'isn', \"isn't\", 'it', \"it'd\", \"it'll\", \"it's\", 'its', 'itself', \"i've\", 'just', 'll', 'm', 'ma', 'me', 'mightn', \"mightn't\", 'more', 'most', 'mustn', \"mustn't\", 'my', 'myself', 'needn', \"needn't\", 'no', 'nor', 'not', 'now', 'o', 'of', 'off', 'on', 'once', 'only', 'or', 'other', 'our', 'ours', 'ourselves', 'out', 'over', 'own', 're', 's', 'same', 'shan', \"shan't\", 'she', \"she'd\", \"she'll\", \"she's\", 'should', 'shouldn', \"shouldn't\", \"should've\", 'so', 'some', 'such', 't', 'than', 'that', \"that'll\", 'the', 'their', 'theirs', 'them', 'themselves', 'then', 'there', 'these', 'they', \"they'd\", \"they'll\", \"they're\", \"they've\", 'this', 'those', 'through', 'to', 'too', 'under', 'until', 'up', 've', 'very', 'was', 'wasn', \"wasn't\", 'we', \"we'd\", \"we'll\", \"we're\", 'were', 'weren', \"weren't\", \"we've\", 'what', 'when', 'where', 'which', 'while', 'who', 'whom', 'why', 'will', 'with', 'won', \"won't\", 'wouldn', \"wouldn't\", 'y', 'you', \"you'd\", \"you'll\", 'your', \"you're\", 'yours', 'yourself', 'yourselves', \"you've\"]\n"
          ]
        }
      ]
    },
    {
      "cell_type": "code",
      "source": [
        "from google.colab import drive\n",
        "drive.mount('/content/drive') # Mounts Google Drive to access files"
      ],
      "metadata": {
        "colab": {
          "base_uri": "https://localhost:8080/"
        },
        "id": "IcXGL8RmwuHO",
        "outputId": "32212a78-6338-428d-f08a-4730da63da95"
      },
      "execution_count": 4,
      "outputs": [
        {
          "output_type": "stream",
          "name": "stdout",
          "text": [
            "Mounted at /content/drive\n"
          ]
        }
      ]
    },
    {
      "cell_type": "markdown",
      "source": [
        "# Data Pre-processing."
      ],
      "metadata": {
        "id": "j-_Wk_wHyhNY"
      }
    },
    {
      "cell_type": "markdown",
      "source": [
        "Preprocessing textual data is necessary because computers cannot directly interpret text; it must be converted into meaningful numerical representations. Various functions will be applied in this crucial step."
      ],
      "metadata": {
        "id": "T_L5c_Q2-e1k"
      }
    },
    {
      "cell_type": "code",
      "source": [
        "#Loading the Dataset.\n",
        "news_dataset = pd.read_csv('/content/drive/MyDrive/Brainwave ML Internship/Fake News Detection/fake_or_real_news.csv') # Loads the dataset from Google Drive"
      ],
      "metadata": {
        "id": "n7oH4GQ2wiSc"
      },
      "execution_count": 5,
      "outputs": []
    },
    {
      "cell_type": "code",
      "execution_count": 6,
      "metadata": {
        "id": "lxvLmRDGPg60",
        "colab": {
          "base_uri": "https://localhost:8080/"
        },
        "outputId": "7928898a-1531-4b39-bafa-615b65183c3a"
      },
      "outputs": [
        {
          "output_type": "execute_result",
          "data": {
            "text/plain": [
              "(6335, 4)"
            ]
          },
          "metadata": {},
          "execution_count": 6
        }
      ],
      "source": [
        "#checking no.of rows and columns.\n",
        "news_dataset.shape # Displays the number of rows and columns in the dataset"
      ]
    },
    {
      "cell_type": "code",
      "metadata": {
        "id": "900df5f5"
      },
      "source": [
        "news_dataset.rename(columns={'Unnamed: 0':'id'}, inplace=True) # Renames the 'Unnamed: 0' column to 'id'"
      ],
      "execution_count": 7,
      "outputs": []
    },
    {
      "cell_type": "code",
      "source": [
        "# print the rows of the dataframe\n",
        "(news_dataset.head()) # Displays the first 5 rows of the dataframe"
      ],
      "metadata": {
        "colab": {
          "base_uri": "https://localhost:8080/",
          "height": 206
        },
        "id": "YviDhPP4zBiE",
        "outputId": "da63e01f-4c98-4542-ffdf-ded881b765f8"
      },
      "execution_count": 8,
      "outputs": [
        {
          "output_type": "execute_result",
          "data": {
            "text/plain": [
              "      id                                              title  \\\n",
              "0   8476                       You Can Smell Hillary’s Fear   \n",
              "1  10294  Watch The Exact Moment Paul Ryan Committed Pol...   \n",
              "2   3608        Kerry to go to Paris in gesture of sympathy   \n",
              "3  10142  Bernie supporters on Twitter erupt in anger ag...   \n",
              "4    875   The Battle of New York: Why This Primary Matters   \n",
              "\n",
              "                                                text label  \n",
              "0  Daniel Greenfield, a Shillman Journalism Fello...  FAKE  \n",
              "1  Google Pinterest Digg Linkedin Reddit Stumbleu...  FAKE  \n",
              "2  U.S. Secretary of State John F. Kerry said Mon...  REAL  \n",
              "3  — Kaydee King (@KaydeeKing) November 9, 2016 T...  FAKE  \n",
              "4  It's primary day in New York and front-runners...  REAL  "
            ],
            "text/html": [
              "\n",
              "  <div id=\"df-74cb9223-26b8-4017-bf84-fcd0f39957e0\" class=\"colab-df-container\">\n",
              "    <div>\n",
              "<style scoped>\n",
              "    .dataframe tbody tr th:only-of-type {\n",
              "        vertical-align: middle;\n",
              "    }\n",
              "\n",
              "    .dataframe tbody tr th {\n",
              "        vertical-align: top;\n",
              "    }\n",
              "\n",
              "    .dataframe thead th {\n",
              "        text-align: right;\n",
              "    }\n",
              "</style>\n",
              "<table border=\"1\" class=\"dataframe\">\n",
              "  <thead>\n",
              "    <tr style=\"text-align: right;\">\n",
              "      <th></th>\n",
              "      <th>id</th>\n",
              "      <th>title</th>\n",
              "      <th>text</th>\n",
              "      <th>label</th>\n",
              "    </tr>\n",
              "  </thead>\n",
              "  <tbody>\n",
              "    <tr>\n",
              "      <th>0</th>\n",
              "      <td>8476</td>\n",
              "      <td>You Can Smell Hillary’s Fear</td>\n",
              "      <td>Daniel Greenfield, a Shillman Journalism Fello...</td>\n",
              "      <td>FAKE</td>\n",
              "    </tr>\n",
              "    <tr>\n",
              "      <th>1</th>\n",
              "      <td>10294</td>\n",
              "      <td>Watch The Exact Moment Paul Ryan Committed Pol...</td>\n",
              "      <td>Google Pinterest Digg Linkedin Reddit Stumbleu...</td>\n",
              "      <td>FAKE</td>\n",
              "    </tr>\n",
              "    <tr>\n",
              "      <th>2</th>\n",
              "      <td>3608</td>\n",
              "      <td>Kerry to go to Paris in gesture of sympathy</td>\n",
              "      <td>U.S. Secretary of State John F. Kerry said Mon...</td>\n",
              "      <td>REAL</td>\n",
              "    </tr>\n",
              "    <tr>\n",
              "      <th>3</th>\n",
              "      <td>10142</td>\n",
              "      <td>Bernie supporters on Twitter erupt in anger ag...</td>\n",
              "      <td>— Kaydee King (@KaydeeKing) November 9, 2016 T...</td>\n",
              "      <td>FAKE</td>\n",
              "    </tr>\n",
              "    <tr>\n",
              "      <th>4</th>\n",
              "      <td>875</td>\n",
              "      <td>The Battle of New York: Why This Primary Matters</td>\n",
              "      <td>It's primary day in New York and front-runners...</td>\n",
              "      <td>REAL</td>\n",
              "    </tr>\n",
              "  </tbody>\n",
              "</table>\n",
              "</div>\n",
              "    <div class=\"colab-df-buttons\">\n",
              "\n",
              "  <div class=\"colab-df-container\">\n",
              "    <button class=\"colab-df-convert\" onclick=\"convertToInteractive('df-74cb9223-26b8-4017-bf84-fcd0f39957e0')\"\n",
              "            title=\"Convert this dataframe to an interactive table.\"\n",
              "            style=\"display:none;\">\n",
              "\n",
              "  <svg xmlns=\"http://www.w3.org/2000/svg\" height=\"24px\" viewBox=\"0 -960 960 960\">\n",
              "    <path d=\"M120-120v-720h720v720H120Zm60-500h600v-160H180v160Zm220 220h160v-160H400v160Zm0 220h160v-160H400v160ZM180-400h160v-160H180v160Zm440 0h160v-160H620v160ZM180-180h160v-160H180v160Zm440 0h160v-160H620v160Z\"/>\n",
              "  </svg>\n",
              "    </button>\n",
              "\n",
              "  <style>\n",
              "    .colab-df-container {\n",
              "      display:flex;\n",
              "      gap: 12px;\n",
              "    }\n",
              "\n",
              "    .colab-df-convert {\n",
              "      background-color: #E8F0FE;\n",
              "      border: none;\n",
              "      border-radius: 50%;\n",
              "      cursor: pointer;\n",
              "      display: none;\n",
              "      fill: #1967D2;\n",
              "      height: 32px;\n",
              "      padding: 0 0 0 0;\n",
              "      width: 32px;\n",
              "    }\n",
              "\n",
              "    .colab-df-convert:hover {\n",
              "      background-color: #E2EBFA;\n",
              "      box-shadow: 0px 1px 2px rgba(60, 64, 67, 0.3), 0px 1px 3px 1px rgba(60, 64, 67, 0.15);\n",
              "      fill: #174EA6;\n",
              "    }\n",
              "\n",
              "    .colab-df-buttons div {\n",
              "      margin-bottom: 4px;\n",
              "    }\n",
              "\n",
              "    [theme=dark] .colab-df-convert {\n",
              "      background-color: #3B4455;\n",
              "      fill: #D2E3FC;\n",
              "    }\n",
              "\n",
              "    [theme=dark] .colab-df-convert:hover {\n",
              "      background-color: #434B5C;\n",
              "      box-shadow: 0px 1px 3px 1px rgba(0, 0, 0, 0.15);\n",
              "      filter: drop-shadow(0px 1px 2px rgba(0, 0, 0, 0.3));\n",
              "      fill: #FFFFFF;\n",
              "    }\n",
              "  </style>\n",
              "\n",
              "    <script>\n",
              "      const buttonEl =\n",
              "        document.querySelector('#df-74cb9223-26b8-4017-bf84-fcd0f39957e0 button.colab-df-convert');\n",
              "      buttonEl.style.display =\n",
              "        google.colab.kernel.accessAllowed ? 'block' : 'none';\n",
              "\n",
              "      async function convertToInteractive(key) {\n",
              "        const element = document.querySelector('#df-74cb9223-26b8-4017-bf84-fcd0f39957e0');\n",
              "        const dataTable =\n",
              "          await google.colab.kernel.invokeFunction('convertToInteractive',\n",
              "                                                    [key], {});\n",
              "        if (!dataTable) return;\n",
              "\n",
              "        const docLinkHtml = 'Like what you see? Visit the ' +\n",
              "          '<a target=\"_blank\" href=https://colab.research.google.com/notebooks/data_table.ipynb>data table notebook</a>'\n",
              "          + ' to learn more about interactive tables.';\n",
              "        element.innerHTML = '';\n",
              "        dataTable['output_type'] = 'display_data';\n",
              "        await google.colab.output.renderOutput(dataTable, element);\n",
              "        const docLink = document.createElement('div');\n",
              "        docLink.innerHTML = docLinkHtml;\n",
              "        element.appendChild(docLink);\n",
              "      }\n",
              "    </script>\n",
              "  </div>\n",
              "\n",
              "\n",
              "    <div id=\"df-52f829a0-7e31-4644-8746-1fa4c2098e57\">\n",
              "      <button class=\"colab-df-quickchart\" onclick=\"quickchart('df-52f829a0-7e31-4644-8746-1fa4c2098e57')\"\n",
              "                title=\"Suggest charts\"\n",
              "                style=\"display:none;\">\n",
              "\n",
              "<svg xmlns=\"http://www.w3.org/2000/svg\" height=\"24px\"viewBox=\"0 0 24 24\"\n",
              "     width=\"24px\">\n",
              "    <g>\n",
              "        <path d=\"M19 3H5c-1.1 0-2 .9-2 2v14c0 1.1.9 2 2 2h14c1.1 0 2-.9 2-2V5c0-1.1-.9-2-2-2zM9 17H7v-7h2v7zm4 0h-2V7h2v10zm4 0h-2v-4h2v4z\"/>\n",
              "    </g>\n",
              "</svg>\n",
              "      </button>\n",
              "\n",
              "<style>\n",
              "  .colab-df-quickchart {\n",
              "      --bg-color: #E8F0FE;\n",
              "      --fill-color: #1967D2;\n",
              "      --hover-bg-color: #E2EBFA;\n",
              "      --hover-fill-color: #174EA6;\n",
              "      --disabled-fill-color: #AAA;\n",
              "      --disabled-bg-color: #DDD;\n",
              "  }\n",
              "\n",
              "  [theme=dark] .colab-df-quickchart {\n",
              "      --bg-color: #3B4455;\n",
              "      --fill-color: #D2E3FC;\n",
              "      --hover-bg-color: #434B5C;\n",
              "      --hover-fill-color: #FFFFFF;\n",
              "      --disabled-bg-color: #3B4455;\n",
              "      --disabled-fill-color: #666;\n",
              "  }\n",
              "\n",
              "  .colab-df-quickchart {\n",
              "    background-color: var(--bg-color);\n",
              "    border: none;\n",
              "    border-radius: 50%;\n",
              "    cursor: pointer;\n",
              "    display: none;\n",
              "    fill: var(--fill-color);\n",
              "    height: 32px;\n",
              "    padding: 0;\n",
              "    width: 32px;\n",
              "  }\n",
              "\n",
              "  .colab-df-quickchart:hover {\n",
              "    background-color: var(--hover-bg-color);\n",
              "    box-shadow: 0 1px 2px rgba(60, 64, 67, 0.3), 0 1px 3px 1px rgba(60, 64, 67, 0.15);\n",
              "    fill: var(--button-hover-fill-color);\n",
              "  }\n",
              "\n",
              "  .colab-df-quickchart-complete:disabled,\n",
              "  .colab-df-quickchart-complete:disabled:hover {\n",
              "    background-color: var(--disabled-bg-color);\n",
              "    fill: var(--disabled-fill-color);\n",
              "    box-shadow: none;\n",
              "  }\n",
              "\n",
              "  .colab-df-spinner {\n",
              "    border: 2px solid var(--fill-color);\n",
              "    border-color: transparent;\n",
              "    border-bottom-color: var(--fill-color);\n",
              "    animation:\n",
              "      spin 1s steps(1) infinite;\n",
              "  }\n",
              "\n",
              "  @keyframes spin {\n",
              "    0% {\n",
              "      border-color: transparent;\n",
              "      border-bottom-color: var(--fill-color);\n",
              "      border-left-color: var(--fill-color);\n",
              "    }\n",
              "    20% {\n",
              "      border-color: transparent;\n",
              "      border-left-color: var(--fill-color);\n",
              "      border-top-color: var(--fill-color);\n",
              "    }\n",
              "    30% {\n",
              "      border-color: transparent;\n",
              "      border-left-color: var(--fill-color);\n",
              "      border-top-color: var(--fill-color);\n",
              "      border-right-color: var(--fill-color);\n",
              "    }\n",
              "    40% {\n",
              "      border-color: transparent;\n",
              "      border-right-color: var(--fill-color);\n",
              "      border-top-color: var(--fill-color);\n",
              "    }\n",
              "    60% {\n",
              "      border-color: transparent;\n",
              "      border-right-color: var(--fill-color);\n",
              "    }\n",
              "    80% {\n",
              "      border-color: transparent;\n",
              "      border-right-color: var(--fill-color);\n",
              "      border-bottom-color: var(--fill-color);\n",
              "    }\n",
              "    90% {\n",
              "      border-color: transparent;\n",
              "      border-bottom-color: var(--fill-color);\n",
              "    }\n",
              "  }\n",
              "</style>\n",
              "\n",
              "      <script>\n",
              "        async function quickchart(key) {\n",
              "          const quickchartButtonEl =\n",
              "            document.querySelector('#' + key + ' button');\n",
              "          quickchartButtonEl.disabled = true;  // To prevent multiple clicks.\n",
              "          quickchartButtonEl.classList.add('colab-df-spinner');\n",
              "          try {\n",
              "            const charts = await google.colab.kernel.invokeFunction(\n",
              "                'suggestCharts', [key], {});\n",
              "          } catch (error) {\n",
              "            console.error('Error during call to suggestCharts:', error);\n",
              "          }\n",
              "          quickchartButtonEl.classList.remove('colab-df-spinner');\n",
              "          quickchartButtonEl.classList.add('colab-df-quickchart-complete');\n",
              "        }\n",
              "        (() => {\n",
              "          let quickchartButtonEl =\n",
              "            document.querySelector('#df-52f829a0-7e31-4644-8746-1fa4c2098e57 button');\n",
              "          quickchartButtonEl.style.display =\n",
              "            google.colab.kernel.accessAllowed ? 'block' : 'none';\n",
              "        })();\n",
              "      </script>\n",
              "    </div>\n",
              "\n",
              "    </div>\n",
              "  </div>\n"
            ],
            "application/vnd.google.colaboratory.intrinsic+json": {
              "type": "dataframe",
              "summary": "{\n  \"name\": \"(news_dataset\",\n  \"rows\": 5,\n  \"fields\": [\n    {\n      \"column\": \"id\",\n      \"properties\": {\n        \"dtype\": \"number\",\n        \"std\": 4225,\n        \"min\": 875,\n        \"max\": 10294,\n        \"num_unique_values\": 5,\n        \"samples\": [\n          10294,\n          875,\n          3608\n        ],\n        \"semantic_type\": \"\",\n        \"description\": \"\"\n      }\n    },\n    {\n      \"column\": \"title\",\n      \"properties\": {\n        \"dtype\": \"string\",\n        \"num_unique_values\": 5,\n        \"samples\": [\n          \"Watch The Exact Moment Paul Ryan Committed Political Suicide At A Trump Rally (VIDEO)\",\n          \"The Battle of New York: Why This Primary Matters\",\n          \"Kerry to go to Paris in gesture of sympathy\"\n        ],\n        \"semantic_type\": \"\",\n        \"description\": \"\"\n      }\n    },\n    {\n      \"column\": \"text\",\n      \"properties\": {\n        \"dtype\": \"string\",\n        \"num_unique_values\": 5,\n        \"samples\": [\n          \"Google Pinterest Digg Linkedin Reddit Stumbleupon Print Delicious Pocket Tumblr \\nThere are two fundamental truths in this world: Paul Ryan desperately wants to be president. And Paul Ryan will never be president. Today proved it. \\nIn a particularly staggering example of political cowardice, Paul Ryan re-re-re-reversed course and announced that he was back on the Trump Train after all. This was an aboutface from where he was a few weeks ago. He had previously declared he would not be supporting or defending Trump after a tape was made public in which Trump bragged about assaulting women. Suddenly, Ryan was appearing at a pro-Trump rally and boldly declaring that he already sent in his vote to make him President of the United States. It was a surreal moment. The figurehead of the Republican Party dosed himself in gasoline, got up on a stage on a chilly afternoon in Wisconsin, and lit a match. . @SpeakerRyan says he voted for @realDonaldTrump : \\u201cRepublicans, it is time to come home\\u201d https://t.co/VyTT49YvoE pic.twitter.com/wCvSCg4a5I \\n\\u2014 ABC News Politics (@ABCPolitics) November 5, 2016 \\nThe Democratic Party couldn\\u2019t have asked for a better moment of film. Ryan\\u2019s chances of ever becoming president went down to zero in an instant. In the wreckage Trump is to leave behind in his wake, those who cravenly backed his campaign will not recover. If Ryan\\u2019s career manages to limp all the way to 2020, then the DNC will have this tape locked and loaded to be used in every ad until Election Day. \\nThe ringing endorsement of the man he clearly hates on a personal level speaks volumes about his own spinelessness. Ryan has postured himself as a \\u201cprincipled\\u201d conservative, and one uncomfortable with Trump\\u2019s unapologetic bigotry and sexism. However, when push came to shove, Paul Ryan \\u2013 like many of his colleagues \\u2013 turned into a sniveling appeaser. After all his lofty tak about conviction, his principles were a house of cards and collapsed with the slightest breeze. \\nWhat\\u2019s especially bizarre is how close Ryan came to making it through unscathed. For months the Speaker of the House refused to comment on Trump at all. His strategy seemed to be to keep his head down, pretend Trump didn\\u2019t exist, and hope that nobody remembered what happened in 2016. Now, just days away from the election, he screwed it all up. \\nIf 2016\\u2019s very ugly election has done any good it\\u2019s by exposing the utter cowardice of the Republicans who once feigned moral courage. A reality television star spit on them, hijacked their party, insulted their wives, and got every last one of them to kneel before him. What a turn of events. \\nFeatured image via Twitter\",\n          \"It's primary day in New York and front-runners Hillary Clinton and Donald Trump are leading in the polls.\\n\\nTrump is now vowing to win enough delegates to clinch the Republican nomination and prevent a contested convention. But Sens.Ted Cruz, R-Texas, Bernie Sanders, D-Vt., and Ohio Gov. John Kasich and aren't giving up just yet.\\n\\nA big win in New York could tip the scales for both the Republican and Democratic front-runners in this year's race for the White House. Clinton and Trump have each suffered losses in recent contests, shifting the momentum to their rivals.\\n\\n\\\"We have won eight out of the last nine caucuses and primaries! Cheer!\\\" Sanders recently told supporters.\\n\\nWhile wins in New York for Trump and Clinton are expected, the margins of those victories are also important.\\n\\nTrump needs to capture more than 50 percent of the vote statewide if he wants to be positioned to win all of the state's 95 GOP delegates. That would put him one step closer to avoiding a contested convention.\\n\\n\\\"We've got to vote and you know Cruz is way, way down in the polls,\\\" Trump urged supporters.\\n\\nMeanwhile, Sanders is hoping for a close race in the Empire State. A loss by 10 points means he'll need to win 80 percent of the remaining delegates to clinch the nomination.\\n\\nDespite a predicted loss in New York, Cruz hasn't lost momentum. He's hoping to sweep up more delegates this weekend while he's talking about how he can win in November.\\n\\n\\\"Because if I'm the nominee, we win the General Election,\\\" Cruz promised his supporters. \\\"We're beating Hillary in the key swing states, we're beating Hillary with Independents, we're beating Hillary with young people.\\\"\\n\\nFor now, Cruz, Kasich, and Sanders have all moved on from New York to other states. Trump and Clinton are the only two staying in their home state to watch the results come in.\",\n          \"U.S. Secretary of State John F. Kerry said Monday that he will stop in Paris later this week, amid criticism that no top American officials attended Sunday\\u2019s unity march against terrorism.\\n\\nKerry said he expects to arrive in Paris Thursday evening, as he heads home after a week abroad. He said he will fly to France at the conclusion of a series of meetings scheduled for Thursday in Sofia, Bulgaria. He plans to meet the next day with Foreign Minister Laurent Fabius and President Francois Hollande, then return to Washington.\\n\\nThe visit by Kerry, who has family and childhood ties to the country and speaks fluent French, could address some of the criticism that the United States snubbed France in its darkest hour in many years.\\n\\nThe French press on Monday was filled with questions about why neither President Obama nor Kerry attended Sunday\\u2019s march, as about 40 leaders of other nations did. Obama was said to have stayed away because his own security needs can be taxing on a country, and Kerry had prior commitments.\\n\\nAmong roughly 40 leaders who did attend was Israeli Prime Minister Benjamin Netanyahu, no stranger to intense security, who marched beside Hollande through the city streets. The highest ranking U.S. officials attending the march were Jane Hartley, the ambassador to France, and Victoria Nuland, the assistant secretary of state for European affairs. Attorney General Eric H. Holder Jr. was in Paris for meetings with law enforcement officials but did not participate in the march.\\n\\nKerry spent Sunday at a business summit hosted by India\\u2019s prime minister, Narendra Modi. The United States is eager for India to relax stringent laws that function as barriers to foreign investment and hopes Modi\\u2019s government will act to open the huge Indian market for more American businesses.\\n\\nIn a news conference, Kerry brushed aside criticism that the United States had not sent a more senior official to Paris as \\u201cquibbling a little bit.\\u201d He noted that many staffers of the American Embassy in Paris attended the march, including the ambassador. He said he had wanted to be present at the march himself but could not because of his prior commitments in India.\\n\\n\\u201cBut that is why I am going there on the way home, to make it crystal clear how passionately we feel about the events that have taken place there,\\u201d he said.\\n\\n\\u201cAnd I don\\u2019t think the people of France have any doubts about America\\u2019s understanding of what happened, of our personal sense of loss and our deep commitment to the people of France in this moment of trauma.\\u201d\"\n        ],\n        \"semantic_type\": \"\",\n        \"description\": \"\"\n      }\n    },\n    {\n      \"column\": \"label\",\n      \"properties\": {\n        \"dtype\": \"category\",\n        \"num_unique_values\": 2,\n        \"samples\": [\n          \"REAL\",\n          \"FAKE\"\n        ],\n        \"semantic_type\": \"\",\n        \"description\": \"\"\n      }\n    }\n  ]\n}"
            }
          },
          "metadata": {},
          "execution_count": 8
        }
      ]
    },
    {
      "cell_type": "code",
      "source": [
        "# counting the number of missing values in the datset\n",
        "news_dataset.isnull().sum() # Counts the number of missing values in each column"
      ],
      "metadata": {
        "colab": {
          "base_uri": "https://localhost:8080/",
          "height": 209
        },
        "id": "z6QYInm9zUfq",
        "outputId": "e2ab13a2-692d-406f-e7a8-ebd53179e042"
      },
      "execution_count": 9,
      "outputs": [
        {
          "output_type": "execute_result",
          "data": {
            "text/plain": [
              "id       0\n",
              "title    0\n",
              "text     0\n",
              "label    0\n",
              "dtype: int64"
            ],
            "text/html": [
              "<div>\n",
              "<style scoped>\n",
              "    .dataframe tbody tr th:only-of-type {\n",
              "        vertical-align: middle;\n",
              "    }\n",
              "\n",
              "    .dataframe tbody tr th {\n",
              "        vertical-align: top;\n",
              "    }\n",
              "\n",
              "    .dataframe thead th {\n",
              "        text-align: right;\n",
              "    }\n",
              "</style>\n",
              "<table border=\"1\" class=\"dataframe\">\n",
              "  <thead>\n",
              "    <tr style=\"text-align: right;\">\n",
              "      <th></th>\n",
              "      <th>0</th>\n",
              "    </tr>\n",
              "  </thead>\n",
              "  <tbody>\n",
              "    <tr>\n",
              "      <th>id</th>\n",
              "      <td>0</td>\n",
              "    </tr>\n",
              "    <tr>\n",
              "      <th>title</th>\n",
              "      <td>0</td>\n",
              "    </tr>\n",
              "    <tr>\n",
              "      <th>text</th>\n",
              "      <td>0</td>\n",
              "    </tr>\n",
              "    <tr>\n",
              "      <th>label</th>\n",
              "      <td>0</td>\n",
              "    </tr>\n",
              "  </tbody>\n",
              "</table>\n",
              "</div><br><label><b>dtype:</b> int64</label>"
            ]
          },
          "metadata": {},
          "execution_count": 9
        }
      ]
    },
    {
      "cell_type": "markdown",
      "source": [
        "Understanding missing values in a dataset is crucial for effective data analysis. This video demonstrates how to identify and handle these missing values in a news dataset"
      ],
      "metadata": {
        "id": "2YU-A_RB_LHv"
      }
    },
    {
      "cell_type": "code",
      "source": [
        "#replacng null values with empty string\n",
        "news_dataset = news_dataset.fillna('') # Replaces any missing values with empty strings"
      ],
      "metadata": {
        "id": "ITiIWGTrzput"
      },
      "execution_count": 10,
      "outputs": []
    },
    {
      "cell_type": "code",
      "source": [
        "# combines the title and text columns into a new 'content' column\n",
        "news_dataset['content'] = news_dataset['title'] + \" \" + news_dataset['text']"
      ],
      "metadata": {
        "id": "_FmPTvV-vVII"
      },
      "execution_count": 11,
      "outputs": []
    },
    {
      "cell_type": "code",
      "source": [
        "print(news_dataset['content']) # Prints the content of the 'content' column"
      ],
      "metadata": {
        "colab": {
          "base_uri": "https://localhost:8080/"
        },
        "id": "55RWDG-IwJl2",
        "outputId": "3bf636f4-9ed8-4ff8-dddb-88f2b5380a92"
      },
      "execution_count": 12,
      "outputs": [
        {
          "output_type": "stream",
          "name": "stdout",
          "text": [
            "0       You Can Smell Hillary’s Fear Daniel Greenfield...\n",
            "1       Watch The Exact Moment Paul Ryan Committed Pol...\n",
            "2       Kerry to go to Paris in gesture of sympathy U....\n",
            "3       Bernie supporters on Twitter erupt in anger ag...\n",
            "4       The Battle of New York: Why This Primary Matte...\n",
            "                              ...                        \n",
            "6330    State Department says it can't find emails fro...\n",
            "6331    The ‘P’ in PBS Should Stand for ‘Plutocratic’ ...\n",
            "6332    Anti-Trump Protesters Are Tools of the Oligarc...\n",
            "6333    In Ethiopia, Obama seeks progress on peace, se...\n",
            "6334    Jeb Bush Is Suddenly Attacking Trump. Here's W...\n",
            "Name: content, Length: 6335, dtype: object\n"
          ]
        }
      ]
    },
    {
      "cell_type": "code",
      "source": [
        "#separating the data & label\n",
        "X = news_dataset.drop(columns='label', axis=1) # Creates a new dataframe X by dropping the 'label' column\n",
        "Y = news_dataset['label'] # Creates a new series Y containing only the 'label' column"
      ],
      "metadata": {
        "id": "H7ge4fod0QlN"
      },
      "execution_count": 13,
      "outputs": []
    },
    {
      "cell_type": "code",
      "source": [
        "print(X) # Prints the dataframe X\n",
        "print(Y) # Prints the series Y"
      ],
      "metadata": {
        "colab": {
          "base_uri": "https://localhost:8080/"
        },
        "id": "uLIYHPgX5exC",
        "outputId": "5b6b7fb3-1e8a-4901-f9c4-60d370355a75"
      },
      "execution_count": 14,
      "outputs": [
        {
          "output_type": "stream",
          "name": "stdout",
          "text": [
            "         id                                              title  \\\n",
            "0      8476                       You Can Smell Hillary’s Fear   \n",
            "1     10294  Watch The Exact Moment Paul Ryan Committed Pol...   \n",
            "2      3608        Kerry to go to Paris in gesture of sympathy   \n",
            "3     10142  Bernie supporters on Twitter erupt in anger ag...   \n",
            "4       875   The Battle of New York: Why This Primary Matters   \n",
            "...     ...                                                ...   \n",
            "6330   4490  State Department says it can't find emails fro...   \n",
            "6331   8062  The ‘P’ in PBS Should Stand for ‘Plutocratic’ ...   \n",
            "6332   8622  Anti-Trump Protesters Are Tools of the Oligarc...   \n",
            "6333   4021  In Ethiopia, Obama seeks progress on peace, se...   \n",
            "6334   4330  Jeb Bush Is Suddenly Attacking Trump. Here's W...   \n",
            "\n",
            "                                                   text  \\\n",
            "0     Daniel Greenfield, a Shillman Journalism Fello...   \n",
            "1     Google Pinterest Digg Linkedin Reddit Stumbleu...   \n",
            "2     U.S. Secretary of State John F. Kerry said Mon...   \n",
            "3     — Kaydee King (@KaydeeKing) November 9, 2016 T...   \n",
            "4     It's primary day in New York and front-runners...   \n",
            "...                                                 ...   \n",
            "6330  The State Department told the Republican Natio...   \n",
            "6331  The ‘P’ in PBS Should Stand for ‘Plutocratic’ ...   \n",
            "6332   Anti-Trump Protesters Are Tools of the Oligar...   \n",
            "6333  ADDIS ABABA, Ethiopia —President Obama convene...   \n",
            "6334  Jeb Bush Is Suddenly Attacking Trump. Here's W...   \n",
            "\n",
            "                                                content  \n",
            "0     You Can Smell Hillary’s Fear Daniel Greenfield...  \n",
            "1     Watch The Exact Moment Paul Ryan Committed Pol...  \n",
            "2     Kerry to go to Paris in gesture of sympathy U....  \n",
            "3     Bernie supporters on Twitter erupt in anger ag...  \n",
            "4     The Battle of New York: Why This Primary Matte...  \n",
            "...                                                 ...  \n",
            "6330  State Department says it can't find emails fro...  \n",
            "6331  The ‘P’ in PBS Should Stand for ‘Plutocratic’ ...  \n",
            "6332  Anti-Trump Protesters Are Tools of the Oligarc...  \n",
            "6333  In Ethiopia, Obama seeks progress on peace, se...  \n",
            "6334  Jeb Bush Is Suddenly Attacking Trump. Here's W...  \n",
            "\n",
            "[6335 rows x 4 columns]\n",
            "0       FAKE\n",
            "1       FAKE\n",
            "2       REAL\n",
            "3       FAKE\n",
            "4       REAL\n",
            "        ... \n",
            "6330    REAL\n",
            "6331    FAKE\n",
            "6332    FAKE\n",
            "6333    REAL\n",
            "6334    REAL\n",
            "Name: label, Length: 6335, dtype: object\n"
          ]
        }
      ]
    },
    {
      "cell_type": "markdown",
      "source": [
        "Stemming: the process of reducing a word to its root word\n",
        "\n",
        "after stemming we perform vectorization : which will turn these words into feature vectors : which are converting text into numerical datas."
      ],
      "metadata": {
        "id": "HkO98t1T7Izk"
      }
    },
    {
      "cell_type": "markdown",
      "source": [
        "Stemming is defined as reducing words to their root form, which helps improve model performance by simplifying data. This is crucial for text processing in machine learning."
      ],
      "metadata": {
        "id": "C824mHnw_YVI"
      }
    },
    {
      "cell_type": "markdown",
      "source": [
        "Vectorizing text data is necessary after stemming, transforming words into numerical feature vectors that can be fed into machine learning models. This facilitates better understanding and processing of the data."
      ],
      "metadata": {
        "id": "801J7JpZ_bgo"
      }
    },
    {
      "cell_type": "code",
      "source": [
        "port_stem = PorterStemmer() # Initializes the Porter Stemmer"
      ],
      "metadata": {
        "id": "YN3myQ-U5kkb"
      },
      "execution_count": 15,
      "outputs": []
    },
    {
      "cell_type": "code",
      "source": [
        "# creating a function.\n",
        "def stemming(content):\n",
        "    stemmed_content = re.sub('[^a-zA-Z]',' ',content) # Removes non-alphabetic characters\n",
        "    stemmed_content = stemmed_content.lower() # Converts text to lowercase\n",
        "    stemmed_content = stemmed_content.split() # Splits the text into a list of words\n",
        "    stemmed_content = [port_stem.stem(word) for word in stemmed_content if not word in stopwords.words('english')] # Stems words and removes stop words\n",
        "    stemmed_content = ' '.join(stemmed_content) # Joins the stemmed words back into a string\n",
        "    return stemmed_content # Returns the stemmed content"
      ],
      "metadata": {
        "id": "A_Tm4KF98AtF"
      },
      "execution_count": 16,
      "outputs": []
    },
    {
      "cell_type": "markdown",
      "source": [
        "The function utilizes regular expressions to filter out non-alphabetic characters from the text. This ensures that only meaningful words are retained for further processing."
      ],
      "metadata": {
        "id": "7sMYNylA_muJ"
      }
    },
    {
      "cell_type": "markdown",
      "source": [
        "All text is converted to lowercase to maintain uniformity and prevent uppercase letters from affecting machine learning models. This step is crucial for accurate word analysis.\n"
      ],
      "metadata": {
        "id": "UbFfKl9L_qTR"
      }
    },
    {
      "cell_type": "code",
      "source": [
        "#separating the data and label\n",
        "x = news_dataset['content'].values # Extracts the values from the 'content' column\n",
        "y = news_dataset['label'].values # Extracts the values from the 'label' column"
      ],
      "metadata": {
        "id": "4MDMHqtRzDNo"
      },
      "execution_count": 17,
      "outputs": []
    },
    {
      "cell_type": "code",
      "source": [
        "print(x) # Prints the values of x"
      ],
      "metadata": {
        "colab": {
          "base_uri": "https://localhost:8080/"
        },
        "id": "0g3Ub90OzDKM",
        "outputId": "0d02803f-84fc-4b4e-c26e-1c4adc5ca69d"
      },
      "execution_count": 18,
      "outputs": [
        {
          "output_type": "stream",
          "name": "stdout",
          "text": [
            "['You Can Smell Hillary’s Fear Daniel Greenfield, a Shillman Journalism Fellow at the Freedom Center, is a New York writer focusing on radical Islam. \\nIn the final stretch of the election, Hillary Rodham Clinton has gone to war with the FBI. \\nThe word “unprecedented” has been thrown around so often this election that it ought to be retired. But it’s still unprecedented for the nominee of a major political party to go war with the FBI. \\nBut that’s exactly what Hillary and her people have done. Coma patients just waking up now and watching an hour of CNN from their hospital beds would assume that FBI Director James Comey is Hillary’s opponent in this election. \\nThe FBI is under attack by everyone from Obama to CNN. Hillary’s people have circulated a letter attacking Comey. There are currently more media hit pieces lambasting him than targeting Trump. It wouldn’t be too surprising if the Clintons or their allies were to start running attack ads against the FBI. \\nThe FBI’s leadership is being warned that the entire left-wing establishment will form a lynch mob if they continue going after Hillary. And the FBI’s credibility is being attacked by the media and the Democrats to preemptively head off the results of the investigation of the Clinton Foundation and Hillary Clinton. \\nThe covert struggle between FBI agents and Obama’s DOJ people has gone explosively public. \\nThe New York Times has compared Comey to J. Edgar Hoover. Its bizarre headline, “James Comey Role Recalls Hoover’s FBI, Fairly or Not” practically admits up front that it’s spouting nonsense. The Boston Globe has published a column calling for Comey’s resignation. Not to be outdone, Time has an editorial claiming that the scandal is really an attack on all women. \\nJames Carville appeared on MSNBC to remind everyone that he was still alive and insane. He accused Comey of coordinating with House Republicans and the KGB. And you thought the “vast right wing conspiracy” was a stretch. \\nCountless media stories charge Comey with violating procedure. Do you know what’s a procedural violation? Emailing classified information stored on your bathroom server. \\nSenator Harry Reid has sent Comey a letter accusing him of violating the Hatch Act. The Hatch Act is a nice idea that has as much relevance in the age of Obama as the Tenth Amendment. But the cable news spectrum quickly filled with media hacks glancing at the Wikipedia article on the Hatch Act under the table while accusing the FBI director of one of the most awkward conspiracies against Hillary ever. \\nIf James Comey is really out to hurt Hillary, he picked one hell of a strange way to do it. \\nNot too long ago Democrats were breathing a sigh of relief when he gave Hillary Clinton a pass in a prominent public statement. If he really were out to elect Trump by keeping the email scandal going, why did he trash the investigation? Was he on the payroll of House Republicans and the KGB back then and playing it coy or was it a sudden development where Vladimir Putin and Paul Ryan talked him into taking a look at Anthony Weiner’s computer? \\nEither Comey is the most cunning FBI director that ever lived or he’s just awkwardly trying to navigate a political mess that has trapped him between a DOJ leadership whose political futures are tied to Hillary’s victory and his own bureau whose apolitical agents just want to be allowed to do their jobs. \\nThe only truly mysterious thing is why Hillary and her associates decided to go to war with a respected Federal agency. Most Americans like the FBI while Hillary Clinton enjoys a 60% unfavorable rating. \\nAnd it’s an interesting question. \\nHillary’s old strategy was to lie and deny that the FBI even had a criminal investigation underway. Instead her associates insisted that it was a security review. The FBI corrected her and she shrugged it off. But the old breezy denial approach has given way to a savage assault on the FBI. \\nPretending that nothing was wrong was a bad strategy, but it was a better one that picking a fight with the FBI while lunatic Clinton associates try to claim that the FBI is really the KGB. \\nThere are two possible explanations. \\nHillary Clinton might be arrogant enough to lash out at the FBI now that she believes that victory is near. The same kind of hubris that led her to plan her victory fireworks display could lead her to declare a war on the FBI for irritating her during the final miles of her campaign. \\nBut the other explanation is that her people panicked. \\nGoing to war with the FBI is not the behavior of a smart and focused presidential campaign. It’s an act of desperation. When a presidential candidate decides that her only option is to try and destroy the credibility of the FBI, that’s not hubris, it’s fear of what the FBI might be about to reveal about her. \\nDuring the original FBI investigation, Hillary Clinton was confident that she could ride it out. And she had good reason for believing that. But that Hillary Clinton is gone. In her place is a paranoid wreck. Within a short space of time the “positive” Clinton campaign promising to unite the country has been replaced by a desperate and flailing operation that has focused all its energy on fighting the FBI. \\nThere’s only one reason for such bizarre behavior. \\nThe Clinton campaign has decided that an FBI investigation of the latest batch of emails poses a threat to its survival. And so it’s gone all in on fighting the FBI. It’s an unprecedented step born of fear. It’s hard to know whether that fear is justified. But the existence of that fear already tells us a whole lot. \\nClinton loyalists rigged the old investigation. They knew the outcome ahead of time as well as they knew the debate questions. Now suddenly they are no longer in control. And they are afraid. \\nYou can smell the fear. \\nThe FBI has wiretaps from the investigation of the Clinton Foundation. It’s finding new emails all the time. And Clintonworld panicked. The spinmeisters of Clintonworld have claimed that the email scandal is just so much smoke without fire. All that’s here is the appearance of impropriety without any of the substance. But this isn’t how you react to smoke. It’s how you respond to a fire. \\nThe misguided assault on the FBI tells us that Hillary Clinton and her allies are afraid of a revelation bigger than the fundamental illegality of her email setup. The email setup was a preemptive cover up. The Clinton campaign has panicked badly out of the belief, right or wrong, that whatever crime the illegal setup was meant to cover up is at risk of being exposed. \\nThe Clintons have weathered countless scandals over the years. Whatever they are protecting this time around is bigger than the usual corruption, bribery, sexual assaults and abuses of power that have followed them around throughout the years. This is bigger and more damaging than any of the allegations that have already come out. And they don’t want FBI investigators anywhere near it. \\nThe campaign against Comey is pure intimidation. It’s also a warning. Any senior FBI people who value their careers are being warned to stay away. The Democrats are closing ranks around their nominee against the FBI. It’s an ugly and unprecedented scene. It may also be their last stand. \\nHillary Clinton has awkwardly wound her way through numerous scandals in just this election cycle. But she’s never shown fear or desperation before. Now that has changed. Whatever she is afraid of, it lies buried in her emails with Huma Abedin. And it can bring her down like nothing else has.  '\n",
            " 'Watch The Exact Moment Paul Ryan Committed Political Suicide At A Trump Rally (VIDEO) Google Pinterest Digg Linkedin Reddit Stumbleupon Print Delicious Pocket Tumblr \\nThere are two fundamental truths in this world: Paul Ryan desperately wants to be president. And Paul Ryan will never be president. Today proved it. \\nIn a particularly staggering example of political cowardice, Paul Ryan re-re-re-reversed course and announced that he was back on the Trump Train after all. This was an aboutface from where he was a few weeks ago. He had previously declared he would not be supporting or defending Trump after a tape was made public in which Trump bragged about assaulting women. Suddenly, Ryan was appearing at a pro-Trump rally and boldly declaring that he already sent in his vote to make him President of the United States. It was a surreal moment. The figurehead of the Republican Party dosed himself in gasoline, got up on a stage on a chilly afternoon in Wisconsin, and lit a match. . @SpeakerRyan says he voted for @realDonaldTrump : “Republicans, it is time to come home” https://t.co/VyTT49YvoE pic.twitter.com/wCvSCg4a5I \\n— ABC News Politics (@ABCPolitics) November 5, 2016 \\nThe Democratic Party couldn’t have asked for a better moment of film. Ryan’s chances of ever becoming president went down to zero in an instant. In the wreckage Trump is to leave behind in his wake, those who cravenly backed his campaign will not recover. If Ryan’s career manages to limp all the way to 2020, then the DNC will have this tape locked and loaded to be used in every ad until Election Day. \\nThe ringing endorsement of the man he clearly hates on a personal level speaks volumes about his own spinelessness. Ryan has postured himself as a “principled” conservative, and one uncomfortable with Trump’s unapologetic bigotry and sexism. However, when push came to shove, Paul Ryan – like many of his colleagues – turned into a sniveling appeaser. After all his lofty tak about conviction, his principles were a house of cards and collapsed with the slightest breeze. \\nWhat’s especially bizarre is how close Ryan came to making it through unscathed. For months the Speaker of the House refused to comment on Trump at all. His strategy seemed to be to keep his head down, pretend Trump didn’t exist, and hope that nobody remembered what happened in 2016. Now, just days away from the election, he screwed it all up. \\nIf 2016’s very ugly election has done any good it’s by exposing the utter cowardice of the Republicans who once feigned moral courage. A reality television star spit on them, hijacked their party, insulted their wives, and got every last one of them to kneel before him. What a turn of events. \\nFeatured image via Twitter'\n",
            " 'Kerry to go to Paris in gesture of sympathy U.S. Secretary of State John F. Kerry said Monday that he will stop in Paris later this week, amid criticism that no top American officials attended Sunday’s unity march against terrorism.\\n\\nKerry said he expects to arrive in Paris Thursday evening, as he heads home after a week abroad. He said he will fly to France at the conclusion of a series of meetings scheduled for Thursday in Sofia, Bulgaria. He plans to meet the next day with Foreign Minister Laurent Fabius and President Francois Hollande, then return to Washington.\\n\\nThe visit by Kerry, who has family and childhood ties to the country and speaks fluent French, could address some of the criticism that the United States snubbed France in its darkest hour in many years.\\n\\nThe French press on Monday was filled with questions about why neither President Obama nor Kerry attended Sunday’s march, as about 40 leaders of other nations did. Obama was said to have stayed away because his own security needs can be taxing on a country, and Kerry had prior commitments.\\n\\nAmong roughly 40 leaders who did attend was Israeli Prime Minister Benjamin Netanyahu, no stranger to intense security, who marched beside Hollande through the city streets. The highest ranking U.S. officials attending the march were Jane Hartley, the ambassador to France, and Victoria Nuland, the assistant secretary of state for European affairs. Attorney General Eric H. Holder Jr. was in Paris for meetings with law enforcement officials but did not participate in the march.\\n\\nKerry spent Sunday at a business summit hosted by India’s prime minister, Narendra Modi. The United States is eager for India to relax stringent laws that function as barriers to foreign investment and hopes Modi’s government will act to open the huge Indian market for more American businesses.\\n\\nIn a news conference, Kerry brushed aside criticism that the United States had not sent a more senior official to Paris as “quibbling a little bit.” He noted that many staffers of the American Embassy in Paris attended the march, including the ambassador. He said he had wanted to be present at the march himself but could not because of his prior commitments in India.\\n\\n“But that is why I am going there on the way home, to make it crystal clear how passionately we feel about the events that have taken place there,” he said.\\n\\n“And I don’t think the people of France have any doubts about America’s understanding of what happened, of our personal sense of loss and our deep commitment to the people of France in this moment of trauma.”'\n",
            " ...\n",
            " \"Anti-Trump Protesters Are Tools of the Oligarchy     : Information  Anti-Trump Protesters Are Tools of the Oligarchy \\x93Reform always provokes rage on the part of those who profit by the old order.\\x94 Arthur M. Schlesinger, Jr., The Crisis of the Old Order\\nBy Paul Craig Roberts\\n Who are the anti-Trump protesters besmirching the name of progressives by pretending to be progressives and by refusing to accept the outcome of the presidential election? They look like, and are acting worse than, the \\x93white trash\\x94 that they are denouncing.\\nI think I know who they are. They are thugs for hire and are paid by the Oligarchy to delegitimize Trump\\x92s presidency in the way that Washington and the German Marshall Fund paid students in Kiev to protest the democratically elected Ukrainian government in order to prepare the way for a coup.\\nThe organization, change.org, which claims to be a progressive group, but might be a front, along with other progressive groups, for the Oligarchy, is destroying the reputation of all progressives by circulating a petition that directs the electors of the Electoral Collage to annul the election by casting their votes for Hillary. Remember how upset progressives were when Trump said he might not accept the election result if there was evidence that the vote was rigged? Now progressives are doing what they damned Trump for saying he might do under certain conditions.\\nThe Western presstitutes used the protests in Kiev to delegitimize a democratically elected government and to set it up for a coup. The protest pay was good enough that non-Ukrainians came from nearby countries to participate in the protest in order to collect the money. At the time I posted the amounts paid daily to protesters. Reports came in to me from Eastern and Western Europe from people who were not Ukrainian but were paid to protest as if they were Ukrainians.\\nThe same thing is going on with the Trump protests. CNN reports that \\x93for many Americans across the country, Donald Trump\\x92s victory is an outcome they simply refuse to accept. Tens of thousands filled the streets in at least 25 US cities overnight.\\x94 This is the exact reporting that the Oligarchy desired from its presstitutes and got.\\nI hope no one thinks that simultaneous protests in 25 cities were a spontaneous event. How did 25 independent protests manage to come up with the same slogans and the same signs on the same night following the election?\\nWhat is the point of the protests, and what interest is served by them? As the Romans always asked, \\x93who benefits?\\x94\\nThere is only one answer: The Oligarchy and only the Oligarchy benefits.\\nTrump is a threat to the Oligarchy, because he intends to stop the giveaway of American jobs to foreigners. The jobs giveaway, sanctified by the neoliberal junk economists as \\x93free trade,\\x94 is one of the main reasons for the 21st century worsening of the US income distribution. Money that was formerly paid in middle class wages and salaries to American manufacturing employees and college graduates has been re-routed to the pockets of the One Percent.\\nWhen US corporations move their production of goods and services sold to Americans offshore to Asian countries, such as China and India, their wage bill falls. The money formerly paid in middle class incomes goes instead into executive bonuses and dividends and capital gains to shareholders. The ladders of upward mobility that had made America the land of opportunity were dismantled for the sole purpose of making a handful of people multi-billionaires.\\nTrump is a threat to the Oligarchy, because he intends peaceful relations with Russia. In order to replace the profitable Soviet Threat, the Oligarchy and their neoconservative agents worked overtime to recreate the \\x93Russian Threat\\x94 by demonizing Russia.\\nAccustomed to many decades of excess profits from the profitable Cold War, the military/security complex was angry when President Reagan brought the Cold War to an end. Before these leaches on American taxpayers could get the Cold War going again, the Soviet Union collapsed as a result of a right-wing coup against Soviet President Mikhail Gorbachev.\\nThe military/security complex and their zionist neoconservative agents cooked up \\x93the war on terror\\x94 to keep the money flowing to the One Percent. But as hard as the presstitute media worked to create fear of \\x93the Muslim threat,\\x94 even insouciant Americans knew that the Muslims did not have thousands of ICBMs carrying powerful thermo-nuclear weapons capable of destroying the entirety of the United States in a few minutes. Neither did the Muslims have the Red Army capable of overrunning all of Europe in a couple of days. Indeed, the Muslims haven\\x92t needed an army. Refugees from Washington\\x92s wars enabled by Europeans are overrunning Europe.\\nThe excuse for the annual trillion dollar ($1,000 billion ) military/security budget was missing. So the Oligarchy created \\x93the New Hitler\\x94 in Russia. Hillary was the Oligarchy\\x92s principle agent for heating up the new Cold War.\\nHillary is the tool, enriched by the Oligarchy, whose job as President was to protect and to increase the trillion dollar budget of the military/security complex. With Hillary in the White House, the looting of the American taxpayers in behalf of the wealth of the One Percent could go forward unimpeded. But if Trump resolves \\x93the Russian threat,\\x94 the Oligarchy takes an income hit.\\nHillary\\x92s job as President was also to privatize Social Security in order that her Wall Street benefactors can rip off Americans the way that Americans have been ripped off by the insurance companies under Obamacare.\\nThose Americans who do not pay attention think, mistakenly, that the FBI cleared Hillary of violating National Security protocols with her email practices. The FBI said that Hillary did violate National Security, but that it was a result of carelessness or ignorance. She got off from indictment, because the FBI concluded that she did not intentionally violate National Security protocols. The investigation of the Clinton Foundation continues.\\nIn other words, in order to protect Hillary the FBI fell back on the ancient common law rule that \\x93there can be no crime without intent.\\x94 (See PCR and Lawrence Stratton, The Tyranny of Good Intentions .)\\nOne would think that protesters, if they were legitimate, would be celebrating Trump\\x92s victory. He, unlike Hillary, promises to reduce tensions with powerful Russia, and we hope also with China. Unlike Hillary, Trump says he is concerned with the absence of careers for those very people protesting in the streets of 25 cities against him.\\nIn other words, the protests against the American people for electing Trump as their president are pointless. The protests are happening for one reason only. The Oligarchy intends to delegitimize the Trump Presidency. Once President Trump is delegitimized, it will be easier for the Oligarchy to assassinate him. Unless the Oligarchy can appoint and control Trump\\x92s government, Trump is a prime candidate for assassination.\\nThe protests against Trump are suspicious for another reason. Unlike Hillary, Obama, and George W. Bush, Donald Trump has not slaughtered and dislocated millions of peoples in seven countries, sending millions of refugees from the Oligarchy\\x92s wars to overrun Europe.\\nTrump earned his fortune, and if by hook or crook, not by selling US government influence to foreign agents as Bill and Hillary did.\\nSo what are the protesters protesting?\\nThere is no answer except that they are hired to protest. Just as the Maidan protesters in Kiev were hired to protest by US and German financed NGOs.\\nThe protests in Kiev were equally pointless, because presidential elections were only months away. If Ukrainians really believed that their president was conspiring with Russia to keep Ukraine from becoming a Western puppet state and wished to become a puppet state regardless of the costs, the opportunity to vote the government out was at hand. The only reason for the protests was to orchestrate a coup. The US did succeed in putting their agent in control of the new Ukrainian government as Victoria Nuland and the US ambassador in Kiev confirmed in their telephone conversation that is available on the Internet.\\nThe Maidan protests were pointless except for making a coup possible. The protests were without any doubt arranged by Washington through Assistant Secretary of State Victoria Nuland, a neoconservative brought into the State Department by Hillary Clinton for the purpose of creating conflict with Russia.\\nTrump is being protested in order to make him vulnerable in the event he proves to be the threat to the Oligarchy that he is thought to be.\\nTrump won the presidency, but the Oligarchy is still in power, which makes any real reforms difficult to achieve. Symbolic reforms can be the product of the contest between President Trump and the oligarchs.\\nKarl Marx learned from historical experience, and Lenin, Stalin, and Pol Pot learned from Karl Marx, that change cannot occur if the displaced ruling class is left intact after a revolution against them. We have proof of this throughout South America. Every revolution by the indigenous people has left unmolested the Spanish ruling class, and every revolution has been overthrown by collusion between the ruling class and Washington.\\nWashington has conspired with traditional elites to remove the elected presidents of Honduras on a number of occasions. Recently, Washington helped elites evict the female presidents of Argentina and Brazil. The presidents of Venezuela, Ecuador, and Bolivia are in the crosshairs and are unlikely to survive. Washington is determined to get its hands on Julian Assange. To achieve this Washington intends to overthrow the Ecuadoran government that, in defiance of Washington, gave Julian Assange political asylum.\\nHugo Chavez had the power to exile or to exterminate the Spanish ruling class in Venezuela when the ruling class participated in a CIA coup against Chavez. But before the CIA could kill Chavez, the people and the military forced his release. Instead of punishing the criminals who would have murdered him, Chavez let them go.\\nAccording to Marx, Lenin, and Stalin, this is the classic mistake of the revolutionary. To rely on good will from the overthrown ruling class is the certain road to the defeat of the revolution.\\nLatin American has proved itself unable to learn this lesson: Revolutions cannot be conciliatory.\\nTrump is a dealmaker. The Oligarchy can permit him the sheen of success in exchange for no real change.\\nTrump is not perfect. He might fail on his own. But we should back him on the two most important elements in his program: to reduce tensions between the major nuclear powers, and to halt Washington\\x92s policy of permitting globalism to destroy Americans\\x92 economic prospects.\\nIf tensions between nuclear powers worsen, we won\\x92t be here to worry about other problems. The combination of the economy hollowed out by globalism and immigration is an economic nightmare. That Trump understands this is reason to support him.\\nNote: Some believe that Trump is a ruse conducted by the Oligarchy. However, as Hillary is the bought-and-paid-for representative of the Oligarchy, such an elaborate ruse is unnecessary. It is preferable for the Oligarchy to win on its own platform than to install a president on the opposite platform and then change him around. Another sellout increases the anger of the people. If Hillary had won, the Oligarchy would have had the voters\\x92 mandate for their platform.\\nDr. Paul Craig Roberts was Assistant Secretary of the Treasury for Economic Policy and associate editor of the Wall Street Journal. He was columnist for Business Week, Scripps Howard News Service, and Creators Syndicate. He has had many university appointments. His internet columns have attracted a worldwide following. Roberts' latest books are The Failure of Laissez Faire Capitalism and Economic Dissolution of the West , How America Was Lost , and The Neoconservative Threat to World Order .\"\n",
            " 'In Ethiopia, Obama seeks progress on peace, security in East Africa ADDIS ABABA, Ethiopia —President Obama convened a meeting with the leaders of several East African nations and the African Union on Monday in an effort to address the worsening situation in South Sudan, even as he met with Ethiopia’s prime minister to discuss how to strengthen human rights and democratic institutions here.\\n\\nWith no resolution in sight for the ongoing conflict in South Sudan, Obama brought together top officials from Ethiopia, Uganda, Kenya, Sudan and the A.U. to chart out a strategy in the event that the latest round of peace talks fail.\\n\\nAfrican nations, led by Ethiopia, have been trying to broker a peace in South Sudan through the Intergovernmental Authority on Development (IGAD), a regional body, and are almost ready to present a possible compromise to the warring parties. The two sides will have until Aug. 17 to respond to the proposal, but administration officials have little expectation that they will accept it.\\n\\nOn Monday, Obama praised the regional leaders for showing “extraordinary leadership in trying to address the continuing situation in South Sudan.” The group included Ethiopian Prime Minister Hailemariam Desalegn, Ugandan President Yoweri Museveni, Kenyan President Uhuru Kenyatta, African Union Chairperson Dlamini Zuma and Sudan’s minister of foreign affairs, Ibrahim Ghandour.\\n\\n“This gives me and the U.S. delegation an opportunity to learn from them what progress has been made, where there appears to be continued roadblocks and how we can partner with them to make progress,” Obama said. “Our hope is that we can actually bring about the kind of peace that the people of South Sudan so desperately need.”\\n\\nThe question of South Sudan — a nation that the United States helped bring into existence in 2011 after years of effort by both the George W. Bush and Obama administrations — has vexed American policymakers for years.\\n\\nIn December 2013, South Sudan President Salva Kiir accused Riek Machar, who had served as his vice president, of attempting a coup d’etat. The two had been longtime political rivals from different ethnic groups — Kiir is Dinka, Machar is a Nuer — who had come together to form a government when the country was first created.\\n\\nWhile tribal differences have helped fuel the conflict, the war has been largely focused on control of the nation’s oil fields, South Sudan’s primary source of revenue.\\n\\nPrinceton Lyman, U.S. special envoy for Sudan and South Sudan from 2011 to 2013, noted that when he first took over as envoy, the United States had spent $10 billion on peacekeeping and other assistance for the two nations, “and that was four years ago… This is a big investment,” he added.\\n\\nAt this point, more than 2.5 million people are facing food shortages, while roughly 1.5 million are displaced from their homes. An additional 520,000 South Sudanese have fled across the border into neighboring countries, including Ethiopia.\\n\\nThe conflict also poses a major economic problem for Kenya, which had major investments in South Sudan before the fighting broke out. The LAPSSET Corridor project was aimed at transporting oil from South Sudan to the Kenyan port of Lamu, and according to E.J. Hogendoorn, deputy program director for Africa at the International Crisis Group, the planned transportation and infrastructure development could have been an “engine of development\" for many parts of East Africa. \"Unfortunately, of course, that’s on hold because of the war,” he said.\\n\\nWhile Obama spent part of the afternoon addressing a regional conflict in Africa, he devoted the rest of the day to strengthening ties with Ethiopia, whose alliance with the United States dates back more than a century. But the current government has come under sharp criticism for its treatment of political opponents and journalists.\\n\\nObama is the first sitting U.S. president to visit Ethiopia.\\n\\nIn a news conference Monday afternoon, both Obama and Hailemariam said they had a frank discussion about Ethiopia\\'s human rights practices and the need for improvement. Ethiopia is Africa’s number two jailer of journalists, according to the Committee to Protect Journalists, and its ruling party won 100 percent of the seats in May’s parliamentary elections.\\n\\nWhite House national security adviser Susan Rice, asked last week whether she considered Ethiopia a democracy, replied, with irony: “One hundred percent.”\\n\\nBut during the news conference Obama twice referred to the Ethiopian government as “democratically elected.”\\n\\n“I don’t bite my tongue,” Obama said of raising concerns on these issues with Ethiopia. “But I do so from a position of respect.”\\n\\nHailemariam, for his part, said, “Our commitment to democracy is real, not skin deep.”\\n\\nBut he added later that people could not expect sweeping reforms given the fact that military rule ended just a couple of decades ago. “Something has to be understood: This is a fledgling democracy.”\\n\\nThe two leaders also discussed their collaboration on counterterrorism, an area in which Ethiopia has been an active leader. The White House announced Monday it will “work with Congress to provide approximately $465 million” this year in new training, equipment and capacity-building aid to its African allies.\\n\\nThe administration also said it would provide at least $40 million in assistance this fiscal year to combat violent extremism in East Africa. The money is intended to foster collaboration among security forces, law enforcement, government officials, community leaders and members of civil society, officials said.\\n\\nObama praised Ethiopia’s work to curb extremist activity but noted that its government had labeled some opposition groups as posing a greater threat than U.S. intelligence would indicate. “Our intelligence indicates while they may oppose the government, they have not tipped into terrorism,” he said.\\n\\nThe United States provides more than $600 million in\\xa0assistance to Ethiopia annually. The vast bulk of that — $490 million — comes from the U.S. Agency for International Development, while the rest is largely security-related. Last fiscal year, nearly $200 million went to health programs, while $163 million went to humanitarian aid.\\n\\nObama said Ethiopia “has proven itself a global leader” on development and over the past 15 years “has lifted millions of people out of poverty.”\\n\\n“To many people around the world, their image of Ethiopia remains stuck in the past, remembering drought and famine,” he said.\\n\\nThe two leaders appeared to have a friendly rapport throughout the news conference. Hailemariam described his country as scoring a series of firsts: Along with being “the cradle of mankind,” he said, “Ethiopia is the birthplace of coffee.” That elicited a smile from Obama.\\n\\nObama said he was impressed by the Ethiopian’s unusual pets. “I had a chance to see the famous lions that live on the grounds,\" he said. \"I’m considering getting some for the White House.” But he conceded that before he did that, “I’ll have to make sure my dogs are safe.”'\n",
            " 'Jeb Bush Is Suddenly Attacking Trump. Here\\'s Why That Matters Jeb Bush Is Suddenly Attacking Trump. Here\\'s Why That Matters\\n\\nJeb Bush isn\\'t pulling punches anymore when it comes to Donald Trump.\\n\\nThe former Florida governor has delicately danced around the billionaire businessman in the 2016 presidential primary so far. But the gloves came off this week when Bush called out Trump as a closet Democrat. He was trying to stunt Trump\\'s rise while attempting to recover his own political mojo.\\n\\n\"What Jeb is desperately trying to do is find his swagger right now,\" GOP strategist Ford O\\'Connell said. \"The knock against Jeb is that he\\'s low voltage and not willing to fight. The best way to shake those perceptions it to engage against the person who is in the media on a 24/7 loop.\"\\n\\nIt\\'s a change from Bush\\'s approach to this point. He hasn\\'t lobbed many direct attacks at Trump other than delicately condemning his criticism of Arizona Sen. John McCain\\'s war service and his attacks against Fox News\\' Megyn Kelly.\\n\\nEven in this month\\'s first debate, Bush swatted down a story that he had allegedly called Trump a \"buffoon\" and a \"clown,\" saying only that Trump\\'s language had been \"divisive.\" Trump called Bush \"a true gentleman.\"\\n\\nThe detente ended this week. So far, most of the top-tier candidates have avoided directly attacking Trump, treating him with kid gloves so as not to anger the part of the GOP base to which Trump appeals.\\n\\nIn other words, the very voters they need when, they hope, Trump fades.\\n\\nIn split-screen New Hampshire town halls this week, Bush and Trump volleyed attacks on each other. Bush took his most pointed jabs at the current front-runner, underscoring Trump\\'s past history as a Democrat and the liberal positions he used to hold.\\n\\n\"Mr. Trump doesn\\'t have a proven conservative record,\" Bush said, according to the Washington Post. \"He was a Democrat longer in the last decade than he was a Republican. He has given more money to Democrats than he\\'s given to Republicans.\"\\n\\nBush went on to attack Trump over his hard-line immigration proposal, arguing it was not just \"vitriolic\" but would have a massive price tag.\\n\\n\"Hundreds of billions of dollars of costs to implement his plans is not a conservative plan,\" Bush said. \"This is going to be my pitch: Let\\'s support someone who you don\\'t have to guess where he stands because he\\'s consistent, because he\\'s been governor, he\\'s consistently had the views that he has.\"\\n\\nOver the next few days, Bush continued the hits on social media.\\n\\nBut Trump, never one to miss a moment to retaliate, didn\\'t pull his punches, either. At his own town hall Wednesday, Trump blasted Bush as an unelectable \"low-energy person.\"\\n\\n\"You know what\\'s happening to Jeb\\'s crowd just down the street? They\\'re sleeping!\" Trump said to applause.\\n\\nSince then, Trump has also ramped up his attacks against Bush on Twitter.\\n\\nThe move to more hot rhetoric may have tripped Bush up, though. Consider his use of the phrase \"anchor babies.\" While immigration reform is something Bush is passionate about — and has even written a book about — he\\'s often criticized within the GOP as too liberal on the issue. Instead, a more combative Bush appeared to use the loaded phrase for the first time.\\n\\nHe was left struggling to defend his use of it. It may have been a signal that the attack-dog crouch he\\'s taking is still one that isn\\'t completely comfortable to Bush, who earlier said he wanted to campaign \"joyfully.\"\\n\\nOther candidates have embraced hitting Trump. Kentucky Sen. Rand Paul went after him forcefully in the debate, though his punch — that Trump was hedging his bets to support Hillary Clinton if she wins the presidency — didn\\'t appear to land.\\n\\nOther candidates like Ohio Gov. John Kasich demurred. In the earlier GOP debate that night, former Texas Gov. Rick Perry and businesswoman Carly Fiorina also jabbed at Trump.\\n\\nBush, though, needs to close the floodgates. He\\'s dropped in national polls as Trump has risen. And, in New Hampshire, where Bush once led, Trump and even newcomer Kasich have seen surges.\\n\\nCullen, a former New Hampshire GOP chairman, said the change in tone and tactics was a smart move for Bush, one that could help him in the Granite State.\\n\\n\"I think it\\'s good politics for Jeb,\" said Fergus Cullen, a former New Hampshire Republican Party chairman. \"There\\'s 25 percent of the Republicans who are entertained by Donald Trump. But there\\'s 60 percent of the party who say they won\\'t vote for him under any circumstances. Those aren\\'t Jeb Bush\\'s people to begin with. He\\'s trying to appeal to the other 60 percent by being the adult in the room and trying to govern.\"\\n\\nO\\'Connell agreed. He pointed out that even if this new approach is one that\\'s uncomfortable for Bush, it\\'s necessary.\\n\\n\"In a lot of elections, being the studious one would have worked,\" he said, \"but Trump has flipped the script.\"']\n"
          ]
        }
      ]
    },
    {
      "cell_type": "code",
      "source": [
        "print(y) # Prints the values of y"
      ],
      "metadata": {
        "colab": {
          "base_uri": "https://localhost:8080/"
        },
        "id": "TdNXmZIqzDHo",
        "outputId": "d6099c43-9ed5-49e7-de6c-8b1a9e2711e7"
      },
      "execution_count": 19,
      "outputs": [
        {
          "output_type": "stream",
          "name": "stdout",
          "text": [
            "['FAKE' 'FAKE' 'REAL' ... 'FAKE' 'REAL' 'REAL']\n"
          ]
        }
      ]
    },
    {
      "cell_type": "code",
      "source": [
        "y.shape # Displays the shape of y"
      ],
      "metadata": {
        "colab": {
          "base_uri": "https://localhost:8080/"
        },
        "id": "16gyyI8LzDFa",
        "outputId": "8c6ab4ea-8f1a-48a9-ca85-c3a07025c475"
      },
      "execution_count": 20,
      "outputs": [
        {
          "output_type": "execute_result",
          "data": {
            "text/plain": [
              "(6335,)"
            ]
          },
          "metadata": {},
          "execution_count": 20
        }
      ]
    },
    {
      "cell_type": "code",
      "source": [
        "#converting the textual data to numerical dta\n",
        "vectorizer = TfidfVectorizer() # Initializes the TfidfVectorizer\n",
        "vectorizer.fit(x) # Fits the vectorizer to the data\n",
        "\n",
        "x = vectorizer.transform(x) # Transforms the text data into numerical feature vectors"
      ],
      "metadata": {
        "id": "r_dJZVHwzDC8"
      },
      "execution_count": 21,
      "outputs": []
    },
    {
      "cell_type": "markdown",
      "source": [
        "TfidfVectorizer is a technique used in Natural Language Processing (NLP) to convert text data into numerical feature vectors. It does this by calculating the Term Frequency-Inverse Document Frequency (TF-IDF) for each word in the text.\n",
        "\n",
        "Term Frequency (TF): This measures how often a word appears in a document.\n",
        "\n",
        "Inverse Document Frequency (IDF): This measures how important a word is across all documents. Words that appear in many documents will have a lower IDF score, while words that appear in fewer documents will have a higher IDF score.\n",
        "\n",
        "\n",
        "By multiplying the TF and IDF scores, TfidfVectorizer assigns a numerical weight to each word that reflects its relevance within a document and across the entire dataset. This allows machine learning models, which typically work with numerical data, to process and analyze text."
      ],
      "metadata": {
        "id": "9Rqj7q1L0yZO"
      }
    },
    {
      "cell_type": "markdown",
      "source": [
        "Feature vectors are numerical representations of data that are essential for machine learning models. In this context, they are used to convert text into a format suitable for analysis."
      ],
      "metadata": {
        "id": "s02afJHY-tBg"
      }
    },
    {
      "cell_type": "code",
      "source": [
        "print(x)"
      ],
      "metadata": {
        "colab": {
          "base_uri": "https://localhost:8080/"
        },
        "id": "jb6q24pQ2jD0",
        "outputId": "b43f3c55-454a-4b5e-a989-22753785df8f"
      },
      "execution_count": 22,
      "outputs": [
        {
          "output_type": "stream",
          "name": "stdout",
          "text": [
            "<Compressed Sparse Row sparse matrix of dtype 'float64'\n",
            "\twith 2172758 stored elements and shape (6335, 67926)>\n",
            "  Coords\tValues\n",
            "  (0, 1629)\t0.01620067894685332\n",
            "  (0, 2319)\t0.02091617172019117\n",
            "  (0, 2412)\t0.012362968166478416\n",
            "  (0, 2501)\t0.024083334170135\n",
            "  (0, 2651)\t0.016015097660191803\n",
            "  (0, 2655)\t0.04332786565935788\n",
            "  (0, 2764)\t0.05119995295824521\n",
            "  (0, 2994)\t0.022388927309660397\n",
            "  (0, 3051)\t0.020332760645694843\n",
            "  (0, 3232)\t0.059975065138012595\n",
            "  (0, 3252)\t0.007110813516507457\n",
            "  (0, 3274)\t0.03356572352573969\n",
            "  (0, 3283)\t0.016211225437576967\n",
            "  (0, 3292)\t0.015386662303415337\n",
            "  (0, 3296)\t0.03629743475813936\n",
            "  (0, 3348)\t0.011742047788665014\n",
            "  (0, 3394)\t0.014483350138037688\n",
            "  (0, 3768)\t0.020198388339288345\n",
            "  (0, 3780)\t0.032391440169600466\n",
            "  (0, 3792)\t0.01929395208818379\n",
            "  (0, 3831)\t0.030721089197861658\n",
            "  (0, 3853)\t0.015232262979818117\n",
            "  (0, 3919)\t0.02182152114431929\n",
            "  (0, 3924)\t0.013725073522225474\n",
            "  (0, 4085)\t0.018099493273326585\n",
            "  :\t:\n",
            "  (6334, 65088)\t0.020695591830443796\n",
            "  (6334, 65097)\t0.0158965157842123\n",
            "  (6334, 65180)\t0.05773705534251203\n",
            "  (6334, 65193)\t0.014671895407952136\n",
            "  (6334, 65294)\t0.012602222569109504\n",
            "  (6334, 65425)\t0.019274675765586315\n",
            "  (6334, 65435)\t0.04408369685325889\n",
            "  (6334, 65561)\t0.037224529229056176\n",
            "  (6334, 65656)\t0.01893069443346312\n",
            "  (6334, 65682)\t0.02969402957330192\n",
            "  (6334, 65685)\t0.025069542846697976\n",
            "  (6334, 65702)\t0.009674548484723289\n",
            "  (6334, 65710)\t0.023455033724020306\n",
            "  (6334, 65806)\t0.04332188736335197\n",
            "  (6334, 65847)\t0.02866831886687372\n",
            "  (6334, 65983)\t0.023043165837739518\n",
            "  (6334, 66091)\t0.023754257179045744\n",
            "  (6334, 66166)\t0.014870536677382019\n",
            "  (6334, 66185)\t0.01850719287219501\n",
            "  (6334, 66299)\t0.016235529262487527\n",
            "  (6334, 66380)\t0.019910191198305137\n",
            "  (6334, 66389)\t0.021039490642648793\n",
            "  (6334, 66472)\t0.019240651329967277\n",
            "  (6334, 66579)\t0.023533896278074624\n",
            "  (6334, 67013)\t0.02058566839522398\n"
          ]
        }
      ]
    },
    {
      "cell_type": "code",
      "source": [
        "#converting the textual data to numerical dta\n",
        "vectorizer = TfidfVectorizer() # Initializes the TfidfVectorizer\n",
        "vectorizer.fit(y) # Fits the vectorizer to the data\n",
        "\n",
        "y = vectorizer.transform(y) # Transforms the text data into numerical feature vectors"
      ],
      "metadata": {
        "id": "n-WEbJHv3bG7"
      },
      "execution_count": 23,
      "outputs": []
    },
    {
      "cell_type": "code",
      "source": [
        "print(y)"
      ],
      "metadata": {
        "colab": {
          "base_uri": "https://localhost:8080/"
        },
        "id": "wt-_EC8l3fGj",
        "outputId": "9dae098e-1c3e-4958-df1f-513723564751"
      },
      "execution_count": 24,
      "outputs": [
        {
          "output_type": "stream",
          "name": "stdout",
          "text": [
            "<Compressed Sparse Row sparse matrix of dtype 'float64'\n",
            "\twith 6335 stored elements and shape (6335, 2)>\n",
            "  Coords\tValues\n",
            "  (0, 0)\t1.0\n",
            "  (1, 0)\t1.0\n",
            "  (2, 1)\t1.0\n",
            "  (3, 0)\t1.0\n",
            "  (4, 1)\t1.0\n",
            "  (5, 0)\t1.0\n",
            "  (6, 0)\t1.0\n",
            "  (7, 1)\t1.0\n",
            "  (8, 1)\t1.0\n",
            "  (9, 1)\t1.0\n",
            "  (10, 1)\t1.0\n",
            "  (11, 1)\t1.0\n",
            "  (12, 0)\t1.0\n",
            "  (13, 0)\t1.0\n",
            "  (14, 1)\t1.0\n",
            "  (15, 1)\t1.0\n",
            "  (16, 0)\t1.0\n",
            "  (17, 0)\t1.0\n",
            "  (18, 1)\t1.0\n",
            "  (19, 1)\t1.0\n",
            "  (20, 1)\t1.0\n",
            "  (21, 0)\t1.0\n",
            "  (22, 1)\t1.0\n",
            "  (23, 1)\t1.0\n",
            "  (24, 0)\t1.0\n",
            "  :\t:\n",
            "  (6310, 1)\t1.0\n",
            "  (6311, 1)\t1.0\n",
            "  (6312, 0)\t1.0\n",
            "  (6313, 0)\t1.0\n",
            "  (6314, 0)\t1.0\n",
            "  (6315, 1)\t1.0\n",
            "  (6316, 1)\t1.0\n",
            "  (6317, 0)\t1.0\n",
            "  (6318, 0)\t1.0\n",
            "  (6319, 1)\t1.0\n",
            "  (6320, 0)\t1.0\n",
            "  (6321, 0)\t1.0\n",
            "  (6322, 0)\t1.0\n",
            "  (6323, 1)\t1.0\n",
            "  (6324, 1)\t1.0\n",
            "  (6325, 0)\t1.0\n",
            "  (6326, 0)\t1.0\n",
            "  (6327, 1)\t1.0\n",
            "  (6328, 0)\t1.0\n",
            "  (6329, 0)\t1.0\n",
            "  (6330, 1)\t1.0\n",
            "  (6331, 0)\t1.0\n",
            "  (6332, 0)\t1.0\n",
            "  (6333, 1)\t1.0\n",
            "  (6334, 1)\t1.0\n"
          ]
        }
      ]
    },
    {
      "cell_type": "markdown",
      "source": [
        "# Splitting the dataset to training and test data"
      ],
      "metadata": {
        "id": "vz15CslZ2rDa"
      }
    },
    {
      "cell_type": "code",
      "source": [
        "x_train, x_test, y_train, y_test = train_test_split(x, news_dataset['label'], test_size = 0.2, stratify=news_dataset['label'], random_state=2)"
      ],
      "metadata": {
        "id": "lVVwPV822mtI"
      },
      "execution_count": 37,
      "outputs": []
    },
    {
      "cell_type": "markdown",
      "source": [
        "# Training the Model: Logistic Regression"
      ],
      "metadata": {
        "id": "HUdEkMdc3qM4"
      }
    },
    {
      "cell_type": "code",
      "source": [
        "model = LogisticRegression() # Initializes the Logistic Regression model"
      ],
      "metadata": {
        "id": "jHubrWNz3kRu"
      },
      "execution_count": 27,
      "outputs": []
    },
    {
      "cell_type": "code",
      "source": [
        "model.fit(x_train, y_train) # Trains the model using the training data"
      ],
      "metadata": {
        "colab": {
          "base_uri": "https://localhost:8080/",
          "height": 80
        },
        "id": "6vQ1CQ6j4lQ3",
        "outputId": "371fd01c-84e7-4609-cc4a-d2d0daa42fcc"
      },
      "execution_count": 29,
      "outputs": [
        {
          "output_type": "execute_result",
          "data": {
            "text/plain": [
              "LogisticRegression()"
            ],
            "text/html": [
              "<style>#sk-container-id-1 {\n",
              "  /* Definition of color scheme common for light and dark mode */\n",
              "  --sklearn-color-text: #000;\n",
              "  --sklearn-color-text-muted: #666;\n",
              "  --sklearn-color-line: gray;\n",
              "  /* Definition of color scheme for unfitted estimators */\n",
              "  --sklearn-color-unfitted-level-0: #fff5e6;\n",
              "  --sklearn-color-unfitted-level-1: #f6e4d2;\n",
              "  --sklearn-color-unfitted-level-2: #ffe0b3;\n",
              "  --sklearn-color-unfitted-level-3: chocolate;\n",
              "  /* Definition of color scheme for fitted estimators */\n",
              "  --sklearn-color-fitted-level-0: #f0f8ff;\n",
              "  --sklearn-color-fitted-level-1: #d4ebff;\n",
              "  --sklearn-color-fitted-level-2: #b3dbfd;\n",
              "  --sklearn-color-fitted-level-3: cornflowerblue;\n",
              "\n",
              "  /* Specific color for light theme */\n",
              "  --sklearn-color-text-on-default-background: var(--sg-text-color, var(--theme-code-foreground, var(--jp-content-font-color1, black)));\n",
              "  --sklearn-color-background: var(--sg-background-color, var(--theme-background, var(--jp-layout-color0, white)));\n",
              "  --sklearn-color-border-box: var(--sg-text-color, var(--theme-code-foreground, var(--jp-content-font-color1, black)));\n",
              "  --sklearn-color-icon: #696969;\n",
              "\n",
              "  @media (prefers-color-scheme: dark) {\n",
              "    /* Redefinition of color scheme for dark theme */\n",
              "    --sklearn-color-text-on-default-background: var(--sg-text-color, var(--theme-code-foreground, var(--jp-content-font-color1, white)));\n",
              "    --sklearn-color-background: var(--sg-background-color, var(--theme-background, var(--jp-layout-color0, #111)));\n",
              "    --sklearn-color-border-box: var(--sg-text-color, var(--theme-code-foreground, var(--jp-content-font-color1, white)));\n",
              "    --sklearn-color-icon: #878787;\n",
              "  }\n",
              "}\n",
              "\n",
              "#sk-container-id-1 {\n",
              "  color: var(--sklearn-color-text);\n",
              "}\n",
              "\n",
              "#sk-container-id-1 pre {\n",
              "  padding: 0;\n",
              "}\n",
              "\n",
              "#sk-container-id-1 input.sk-hidden--visually {\n",
              "  border: 0;\n",
              "  clip: rect(1px 1px 1px 1px);\n",
              "  clip: rect(1px, 1px, 1px, 1px);\n",
              "  height: 1px;\n",
              "  margin: -1px;\n",
              "  overflow: hidden;\n",
              "  padding: 0;\n",
              "  position: absolute;\n",
              "  width: 1px;\n",
              "}\n",
              "\n",
              "#sk-container-id-1 div.sk-dashed-wrapped {\n",
              "  border: 1px dashed var(--sklearn-color-line);\n",
              "  margin: 0 0.4em 0.5em 0.4em;\n",
              "  box-sizing: border-box;\n",
              "  padding-bottom: 0.4em;\n",
              "  background-color: var(--sklearn-color-background);\n",
              "}\n",
              "\n",
              "#sk-container-id-1 div.sk-container {\n",
              "  /* jupyter's `normalize.less` sets `[hidden] { display: none; }`\n",
              "     but bootstrap.min.css set `[hidden] { display: none !important; }`\n",
              "     so we also need the `!important` here to be able to override the\n",
              "     default hidden behavior on the sphinx rendered scikit-learn.org.\n",
              "     See: https://github.com/scikit-learn/scikit-learn/issues/21755 */\n",
              "  display: inline-block !important;\n",
              "  position: relative;\n",
              "}\n",
              "\n",
              "#sk-container-id-1 div.sk-text-repr-fallback {\n",
              "  display: none;\n",
              "}\n",
              "\n",
              "div.sk-parallel-item,\n",
              "div.sk-serial,\n",
              "div.sk-item {\n",
              "  /* draw centered vertical line to link estimators */\n",
              "  background-image: linear-gradient(var(--sklearn-color-text-on-default-background), var(--sklearn-color-text-on-default-background));\n",
              "  background-size: 2px 100%;\n",
              "  background-repeat: no-repeat;\n",
              "  background-position: center center;\n",
              "}\n",
              "\n",
              "/* Parallel-specific style estimator block */\n",
              "\n",
              "#sk-container-id-1 div.sk-parallel-item::after {\n",
              "  content: \"\";\n",
              "  width: 100%;\n",
              "  border-bottom: 2px solid var(--sklearn-color-text-on-default-background);\n",
              "  flex-grow: 1;\n",
              "}\n",
              "\n",
              "#sk-container-id-1 div.sk-parallel {\n",
              "  display: flex;\n",
              "  align-items: stretch;\n",
              "  justify-content: center;\n",
              "  background-color: var(--sklearn-color-background);\n",
              "  position: relative;\n",
              "}\n",
              "\n",
              "#sk-container-id-1 div.sk-parallel-item {\n",
              "  display: flex;\n",
              "  flex-direction: column;\n",
              "}\n",
              "\n",
              "#sk-container-id-1 div.sk-parallel-item:first-child::after {\n",
              "  align-self: flex-end;\n",
              "  width: 50%;\n",
              "}\n",
              "\n",
              "#sk-container-id-1 div.sk-parallel-item:last-child::after {\n",
              "  align-self: flex-start;\n",
              "  width: 50%;\n",
              "}\n",
              "\n",
              "#sk-container-id-1 div.sk-parallel-item:only-child::after {\n",
              "  width: 0;\n",
              "}\n",
              "\n",
              "/* Serial-specific style estimator block */\n",
              "\n",
              "#sk-container-id-1 div.sk-serial {\n",
              "  display: flex;\n",
              "  flex-direction: column;\n",
              "  align-items: center;\n",
              "  background-color: var(--sklearn-color-background);\n",
              "  padding-right: 1em;\n",
              "  padding-left: 1em;\n",
              "}\n",
              "\n",
              "\n",
              "/* Toggleable style: style used for estimator/Pipeline/ColumnTransformer box that is\n",
              "clickable and can be expanded/collapsed.\n",
              "- Pipeline and ColumnTransformer use this feature and define the default style\n",
              "- Estimators will overwrite some part of the style using the `sk-estimator` class\n",
              "*/\n",
              "\n",
              "/* Pipeline and ColumnTransformer style (default) */\n",
              "\n",
              "#sk-container-id-1 div.sk-toggleable {\n",
              "  /* Default theme specific background. It is overwritten whether we have a\n",
              "  specific estimator or a Pipeline/ColumnTransformer */\n",
              "  background-color: var(--sklearn-color-background);\n",
              "}\n",
              "\n",
              "/* Toggleable label */\n",
              "#sk-container-id-1 label.sk-toggleable__label {\n",
              "  cursor: pointer;\n",
              "  display: flex;\n",
              "  width: 100%;\n",
              "  margin-bottom: 0;\n",
              "  padding: 0.5em;\n",
              "  box-sizing: border-box;\n",
              "  text-align: center;\n",
              "  align-items: start;\n",
              "  justify-content: space-between;\n",
              "  gap: 0.5em;\n",
              "}\n",
              "\n",
              "#sk-container-id-1 label.sk-toggleable__label .caption {\n",
              "  font-size: 0.6rem;\n",
              "  font-weight: lighter;\n",
              "  color: var(--sklearn-color-text-muted);\n",
              "}\n",
              "\n",
              "#sk-container-id-1 label.sk-toggleable__label-arrow:before {\n",
              "  /* Arrow on the left of the label */\n",
              "  content: \"▸\";\n",
              "  float: left;\n",
              "  margin-right: 0.25em;\n",
              "  color: var(--sklearn-color-icon);\n",
              "}\n",
              "\n",
              "#sk-container-id-1 label.sk-toggleable__label-arrow:hover:before {\n",
              "  color: var(--sklearn-color-text);\n",
              "}\n",
              "\n",
              "/* Toggleable content - dropdown */\n",
              "\n",
              "#sk-container-id-1 div.sk-toggleable__content {\n",
              "  max-height: 0;\n",
              "  max-width: 0;\n",
              "  overflow: hidden;\n",
              "  text-align: left;\n",
              "  /* unfitted */\n",
              "  background-color: var(--sklearn-color-unfitted-level-0);\n",
              "}\n",
              "\n",
              "#sk-container-id-1 div.sk-toggleable__content.fitted {\n",
              "  /* fitted */\n",
              "  background-color: var(--sklearn-color-fitted-level-0);\n",
              "}\n",
              "\n",
              "#sk-container-id-1 div.sk-toggleable__content pre {\n",
              "  margin: 0.2em;\n",
              "  border-radius: 0.25em;\n",
              "  color: var(--sklearn-color-text);\n",
              "  /* unfitted */\n",
              "  background-color: var(--sklearn-color-unfitted-level-0);\n",
              "}\n",
              "\n",
              "#sk-container-id-1 div.sk-toggleable__content.fitted pre {\n",
              "  /* unfitted */\n",
              "  background-color: var(--sklearn-color-fitted-level-0);\n",
              "}\n",
              "\n",
              "#sk-container-id-1 input.sk-toggleable__control:checked~div.sk-toggleable__content {\n",
              "  /* Expand drop-down */\n",
              "  max-height: 200px;\n",
              "  max-width: 100%;\n",
              "  overflow: auto;\n",
              "}\n",
              "\n",
              "#sk-container-id-1 input.sk-toggleable__control:checked~label.sk-toggleable__label-arrow:before {\n",
              "  content: \"▾\";\n",
              "}\n",
              "\n",
              "/* Pipeline/ColumnTransformer-specific style */\n",
              "\n",
              "#sk-container-id-1 div.sk-label input.sk-toggleable__control:checked~label.sk-toggleable__label {\n",
              "  color: var(--sklearn-color-text);\n",
              "  background-color: var(--sklearn-color-unfitted-level-2);\n",
              "}\n",
              "\n",
              "#sk-container-id-1 div.sk-label.fitted input.sk-toggleable__control:checked~label.sk-toggleable__label {\n",
              "  background-color: var(--sklearn-color-fitted-level-2);\n",
              "}\n",
              "\n",
              "/* Estimator-specific style */\n",
              "\n",
              "/* Colorize estimator box */\n",
              "#sk-container-id-1 div.sk-estimator input.sk-toggleable__control:checked~label.sk-toggleable__label {\n",
              "  /* unfitted */\n",
              "  background-color: var(--sklearn-color-unfitted-level-2);\n",
              "}\n",
              "\n",
              "#sk-container-id-1 div.sk-estimator.fitted input.sk-toggleable__control:checked~label.sk-toggleable__label {\n",
              "  /* fitted */\n",
              "  background-color: var(--sklearn-color-fitted-level-2);\n",
              "}\n",
              "\n",
              "#sk-container-id-1 div.sk-label label.sk-toggleable__label,\n",
              "#sk-container-id-1 div.sk-label label {\n",
              "  /* The background is the default theme color */\n",
              "  color: var(--sklearn-color-text-on-default-background);\n",
              "}\n",
              "\n",
              "/* On hover, darken the color of the background */\n",
              "#sk-container-id-1 div.sk-label:hover label.sk-toggleable__label {\n",
              "  color: var(--sklearn-color-text);\n",
              "  background-color: var(--sklearn-color-unfitted-level-2);\n",
              "}\n",
              "\n",
              "/* Label box, darken color on hover, fitted */\n",
              "#sk-container-id-1 div.sk-label.fitted:hover label.sk-toggleable__label.fitted {\n",
              "  color: var(--sklearn-color-text);\n",
              "  background-color: var(--sklearn-color-fitted-level-2);\n",
              "}\n",
              "\n",
              "/* Estimator label */\n",
              "\n",
              "#sk-container-id-1 div.sk-label label {\n",
              "  font-family: monospace;\n",
              "  font-weight: bold;\n",
              "  display: inline-block;\n",
              "  line-height: 1.2em;\n",
              "}\n",
              "\n",
              "#sk-container-id-1 div.sk-label-container {\n",
              "  text-align: center;\n",
              "}\n",
              "\n",
              "/* Estimator-specific */\n",
              "#sk-container-id-1 div.sk-estimator {\n",
              "  font-family: monospace;\n",
              "  border: 1px dotted var(--sklearn-color-border-box);\n",
              "  border-radius: 0.25em;\n",
              "  box-sizing: border-box;\n",
              "  margin-bottom: 0.5em;\n",
              "  /* unfitted */\n",
              "  background-color: var(--sklearn-color-unfitted-level-0);\n",
              "}\n",
              "\n",
              "#sk-container-id-1 div.sk-estimator.fitted {\n",
              "  /* fitted */\n",
              "  background-color: var(--sklearn-color-fitted-level-0);\n",
              "}\n",
              "\n",
              "/* on hover */\n",
              "#sk-container-id-1 div.sk-estimator:hover {\n",
              "  /* unfitted */\n",
              "  background-color: var(--sklearn-color-unfitted-level-2);\n",
              "}\n",
              "\n",
              "#sk-container-id-1 div.sk-estimator.fitted:hover {\n",
              "  /* fitted */\n",
              "  background-color: var(--sklearn-color-fitted-level-2);\n",
              "}\n",
              "\n",
              "/* Specification for estimator info (e.g. \"i\" and \"?\") */\n",
              "\n",
              "/* Common style for \"i\" and \"?\" */\n",
              "\n",
              ".sk-estimator-doc-link,\n",
              "a:link.sk-estimator-doc-link,\n",
              "a:visited.sk-estimator-doc-link {\n",
              "  float: right;\n",
              "  font-size: smaller;\n",
              "  line-height: 1em;\n",
              "  font-family: monospace;\n",
              "  background-color: var(--sklearn-color-background);\n",
              "  border-radius: 1em;\n",
              "  height: 1em;\n",
              "  width: 1em;\n",
              "  text-decoration: none !important;\n",
              "  margin-left: 0.5em;\n",
              "  text-align: center;\n",
              "  /* unfitted */\n",
              "  border: var(--sklearn-color-unfitted-level-1) 1pt solid;\n",
              "  color: var(--sklearn-color-unfitted-level-1);\n",
              "}\n",
              "\n",
              ".sk-estimator-doc-link.fitted,\n",
              "a:link.sk-estimator-doc-link.fitted,\n",
              "a:visited.sk-estimator-doc-link.fitted {\n",
              "  /* fitted */\n",
              "  border: var(--sklearn-color-fitted-level-1) 1pt solid;\n",
              "  color: var(--sklearn-color-fitted-level-1);\n",
              "}\n",
              "\n",
              "/* On hover */\n",
              "div.sk-estimator:hover .sk-estimator-doc-link:hover,\n",
              ".sk-estimator-doc-link:hover,\n",
              "div.sk-label-container:hover .sk-estimator-doc-link:hover,\n",
              ".sk-estimator-doc-link:hover {\n",
              "  /* unfitted */\n",
              "  background-color: var(--sklearn-color-unfitted-level-3);\n",
              "  color: var(--sklearn-color-background);\n",
              "  text-decoration: none;\n",
              "}\n",
              "\n",
              "div.sk-estimator.fitted:hover .sk-estimator-doc-link.fitted:hover,\n",
              ".sk-estimator-doc-link.fitted:hover,\n",
              "div.sk-label-container:hover .sk-estimator-doc-link.fitted:hover,\n",
              ".sk-estimator-doc-link.fitted:hover {\n",
              "  /* fitted */\n",
              "  background-color: var(--sklearn-color-fitted-level-3);\n",
              "  color: var(--sklearn-color-background);\n",
              "  text-decoration: none;\n",
              "}\n",
              "\n",
              "/* Span, style for the box shown on hovering the info icon */\n",
              ".sk-estimator-doc-link span {\n",
              "  display: none;\n",
              "  z-index: 9999;\n",
              "  position: relative;\n",
              "  font-weight: normal;\n",
              "  right: .2ex;\n",
              "  padding: .5ex;\n",
              "  margin: .5ex;\n",
              "  width: min-content;\n",
              "  min-width: 20ex;\n",
              "  max-width: 50ex;\n",
              "  color: var(--sklearn-color-text);\n",
              "  box-shadow: 2pt 2pt 4pt #999;\n",
              "  /* unfitted */\n",
              "  background: var(--sklearn-color-unfitted-level-0);\n",
              "  border: .5pt solid var(--sklearn-color-unfitted-level-3);\n",
              "}\n",
              "\n",
              ".sk-estimator-doc-link.fitted span {\n",
              "  /* fitted */\n",
              "  background: var(--sklearn-color-fitted-level-0);\n",
              "  border: var(--sklearn-color-fitted-level-3);\n",
              "}\n",
              "\n",
              ".sk-estimator-doc-link:hover span {\n",
              "  display: block;\n",
              "}\n",
              "\n",
              "/* \"?\"-specific style due to the `<a>` HTML tag */\n",
              "\n",
              "#sk-container-id-1 a.estimator_doc_link {\n",
              "  float: right;\n",
              "  font-size: 1rem;\n",
              "  line-height: 1em;\n",
              "  font-family: monospace;\n",
              "  background-color: var(--sklearn-color-background);\n",
              "  border-radius: 1rem;\n",
              "  height: 1rem;\n",
              "  width: 1rem;\n",
              "  text-decoration: none;\n",
              "  /* unfitted */\n",
              "  color: var(--sklearn-color-unfitted-level-1);\n",
              "  border: var(--sklearn-color-unfitted-level-1) 1pt solid;\n",
              "}\n",
              "\n",
              "#sk-container-id-1 a.estimator_doc_link.fitted {\n",
              "  /* fitted */\n",
              "  border: var(--sklearn-color-fitted-level-1) 1pt solid;\n",
              "  color: var(--sklearn-color-fitted-level-1);\n",
              "}\n",
              "\n",
              "/* On hover */\n",
              "#sk-container-id-1 a.estimator_doc_link:hover {\n",
              "  /* unfitted */\n",
              "  background-color: var(--sklearn-color-unfitted-level-3);\n",
              "  color: var(--sklearn-color-background);\n",
              "  text-decoration: none;\n",
              "}\n",
              "\n",
              "#sk-container-id-1 a.estimator_doc_link.fitted:hover {\n",
              "  /* fitted */\n",
              "  background-color: var(--sklearn-color-fitted-level-3);\n",
              "}\n",
              "</style><div id=\"sk-container-id-1\" class=\"sk-top-container\"><div class=\"sk-text-repr-fallback\"><pre>LogisticRegression()</pre><b>In a Jupyter environment, please rerun this cell to show the HTML representation or trust the notebook. <br />On GitHub, the HTML representation is unable to render, please try loading this page with nbviewer.org.</b></div><div class=\"sk-container\" hidden><div class=\"sk-item\"><div class=\"sk-estimator fitted sk-toggleable\"><input class=\"sk-toggleable__control sk-hidden--visually\" id=\"sk-estimator-id-1\" type=\"checkbox\" checked><label for=\"sk-estimator-id-1\" class=\"sk-toggleable__label fitted sk-toggleable__label-arrow\"><div><div>LogisticRegression</div></div><div><a class=\"sk-estimator-doc-link fitted\" rel=\"noreferrer\" target=\"_blank\" href=\"https://scikit-learn.org/1.6/modules/generated/sklearn.linear_model.LogisticRegression.html\">?<span>Documentation for LogisticRegression</span></a><span class=\"sk-estimator-doc-link fitted\">i<span>Fitted</span></span></div></label><div class=\"sk-toggleable__content fitted\"><pre>LogisticRegression()</pre></div> </div></div></div></div>"
            ]
          },
          "metadata": {},
          "execution_count": 29
        }
      ]
    },
    {
      "cell_type": "markdown",
      "source": [
        "# Evaluation"
      ],
      "metadata": {
        "id": "YyiyXa3g49lH"
      }
    },
    {
      "cell_type": "markdown",
      "source": [
        "accuracy score"
      ],
      "metadata": {
        "id": "Owi8SxQI5Jd-"
      }
    },
    {
      "cell_type": "code",
      "source": [
        "#accuracy score on the training data\n",
        "x_train_prediction = model.predict(x_train) # Makes predictions on the training data\n",
        "training_data_accuracy = accuracy_score(x_train_prediction, y_train) # Calculates the accuracy of the predictions"
      ],
      "metadata": {
        "id": "6eZXdZT84t3f"
      },
      "execution_count": 30,
      "outputs": []
    },
    {
      "cell_type": "code",
      "source": [
        "print('Accuracy score of the training data : ', training_data_accuracy) # Prints the training data accuracy"
      ],
      "metadata": {
        "colab": {
          "base_uri": "https://localhost:8080/"
        },
        "id": "rVck6oaE574r",
        "outputId": "32ca3c16-a7da-452e-91e9-5609a859e049"
      },
      "execution_count": 31,
      "outputs": [
        {
          "output_type": "stream",
          "name": "stdout",
          "text": [
            "Accuracy score of the training data :  0.9516574585635359\n"
          ]
        }
      ]
    },
    {
      "cell_type": "code",
      "source": [
        "#accuracy score on the test data\n",
        "x_test_prediction = model.predict(x_test) # Makes predictions on the test data\n",
        "test_data_accuracy = accuracy_score(x_test_prediction, y_test) # Calculates the accuracy of the predictions"
      ],
      "metadata": {
        "id": "CTr6-g815Sbh"
      },
      "execution_count": 32,
      "outputs": []
    },
    {
      "cell_type": "code",
      "source": [
        "print('Accuracy score of the testing data : ', test_data_accuracy) # Prints the testing data accuracy"
      ],
      "metadata": {
        "colab": {
          "base_uri": "https://localhost:8080/"
        },
        "id": "HOxrAigE6E0z",
        "outputId": "61357624-f5a4-47c8-e72a-05090af6be7e"
      },
      "execution_count": 33,
      "outputs": [
        {
          "output_type": "stream",
          "name": "stdout",
          "text": [
            "Accuracy score of the testing data :  0.9100236779794791\n"
          ]
        }
      ]
    },
    {
      "cell_type": "markdown",
      "source": [
        "# Make a Predictive System."
      ],
      "metadata": {
        "id": "Vdbq33g17c6N"
      }
    },
    {
      "cell_type": "code",
      "source": [
        "# Selecting the first data point from the test set\n",
        "x_new = x_test[0]\n",
        "\n",
        "# Making a prediction using the trained model\n",
        "prediction = model.predict(x_new)\n",
        "print(prediction)\n",
        "\n",
        "# Interpreting the prediction\n",
        "if prediction[0] == 'REAL':\n",
        "    print(\"The news is Real\")\n",
        "else:\n",
        "    print(\"The news is Fake\")"
      ],
      "metadata": {
        "colab": {
          "base_uri": "https://localhost:8080/"
        },
        "id": "Pag0N6ea64o2",
        "outputId": "6afbc808-3a21-4f23-b385-346361613e69"
      },
      "execution_count": 34,
      "outputs": [
        {
          "output_type": "stream",
          "name": "stdout",
          "text": [
            "['REAL']\n",
            "The news is Real\n"
          ]
        }
      ]
    },
    {
      "cell_type": "code",
      "source": [
        "# Printing the actual label for the first test data point\n",
        "print(y_test.iloc[0])"
      ],
      "metadata": {
        "colab": {
          "base_uri": "https://localhost:8080/"
        },
        "id": "f1mMEhe17jlo",
        "outputId": "96719d3e-1a31-4149-e687-2d0fd5b0d51a"
      },
      "execution_count": 39,
      "outputs": [
        {
          "output_type": "stream",
          "name": "stdout",
          "text": [
            "REAL\n"
          ]
        }
      ]
    },
    {
      "cell_type": "code",
      "source": [
        "# Printing the prediction and its data type\n",
        "print(prediction[0], type(prediction[0]))"
      ],
      "metadata": {
        "colab": {
          "base_uri": "https://localhost:8080/"
        },
        "id": "zsqQb4N6J2LS",
        "outputId": "e8ab7719-3f90-490b-bcd8-d5c795d811e8"
      },
      "execution_count": 40,
      "outputs": [
        {
          "output_type": "stream",
          "name": "stdout",
          "text": [
            "REAL <class 'str'>\n"
          ]
        }
      ]
    },
    {
      "cell_type": "code",
      "source": [
        "# Selecting the fourth data point from the test set\n",
        "x_new = x_test[3]\n",
        "\n",
        "# Making a prediction using the trained model\n",
        "prediction = model.predict(x_new)\n",
        "print(prediction)\n",
        "\n",
        "# Interpreting the prediction\n",
        "if prediction[0] == 'REAL':\n",
        "    print(\"The news is Real\")\n",
        "else:\n",
        "    print(\"The news is Fake\")"
      ],
      "metadata": {
        "colab": {
          "base_uri": "https://localhost:8080/"
        },
        "id": "BOunhhf777-_",
        "outputId": "17de5c04-cfd9-4321-b7f6-1e2c66fe26de"
      },
      "execution_count": 41,
      "outputs": [
        {
          "output_type": "stream",
          "name": "stdout",
          "text": [
            "['FAKE']\n",
            "The news is Fake\n"
          ]
        }
      ]
    },
    {
      "cell_type": "code",
      "source": [
        "# Printing the actual label for the fourth test data point\n",
        "print(y_test.iloc[3])"
      ],
      "metadata": {
        "colab": {
          "base_uri": "https://localhost:8080/"
        },
        "id": "WDT1DQNX9G0y",
        "outputId": "39bf7bb5-4438-4ed8-fb80-b455c679ecb1"
      },
      "execution_count": 42,
      "outputs": [
        {
          "output_type": "stream",
          "name": "stdout",
          "text": [
            "FAKE\n"
          ]
        }
      ]
    },
    {
      "cell_type": "code",
      "source": [
        "# Selecting the ninth data point from the test set\n",
        "x_new = x_test[8]\n",
        "\n",
        "# Making a prediction using the trained model\n",
        "prediction = model.predict(x_new)\n",
        "print(prediction)\n",
        "\n",
        "# Interpreting the prediction\n",
        "if prediction[0] == 'REAL':\n",
        "    print(\"The news is Real\")\n",
        "else:\n",
        "    print(\"The news is Fake\")"
      ],
      "metadata": {
        "colab": {
          "base_uri": "https://localhost:8080/"
        },
        "id": "rGLbydbc6zEU",
        "outputId": "2bb95584-c134-4d8f-b7fd-c978efaecd75"
      },
      "execution_count": 43,
      "outputs": [
        {
          "output_type": "stream",
          "name": "stdout",
          "text": [
            "['REAL']\n",
            "The news is Real\n"
          ]
        }
      ]
    },
    {
      "cell_type": "code",
      "source": [
        "# Printing the actual label for the ninth test data point\n",
        "print(y_test.iloc[8])"
      ],
      "metadata": {
        "colab": {
          "base_uri": "https://localhost:8080/"
        },
        "id": "pD_pS9ZM9YtW",
        "outputId": "061e8780-5007-458d-bfae-78ffc606578b"
      },
      "execution_count": 44,
      "outputs": [
        {
          "output_type": "stream",
          "name": "stdout",
          "text": [
            "REAL\n"
          ]
        }
      ]
    },
    {
      "cell_type": "code",
      "source": [
        "# Selecting the twelfth data point from the test set\n",
        "x_new = x_test[11]\n",
        "\n",
        "# Making a prediction using the trained model\n",
        "prediction = model.predict(x_new)\n",
        "print(prediction)\n",
        "\n",
        "# Interpreting the prediction\n",
        "if prediction[0] == 'REAL':\n",
        "    print(\"The news is Real\")\n",
        "else:\n",
        "    print(\"The news is Fake\")"
      ],
      "metadata": {
        "id": "YCr0ihj29ClC"
      },
      "execution_count": null,
      "outputs": []
    },
    {
      "cell_type": "code",
      "source": [
        "# Printing the actual label for the twelfth data point\n",
        "print(y_test.iloc[11])"
      ],
      "metadata": {
        "id": "AoQqdXEt9XJg"
      },
      "execution_count": null,
      "outputs": []
    },
    {
      "cell_type": "code",
      "source": [
        "# Selecting the sixteenth data point from the test set\n",
        "x_new = x_test[15]\n",
        "\n",
        "# Making a prediction using the trained model\n",
        "prediction = model.predict(x_new)\n",
        "print(prediction)\n",
        "\n",
        "# Interpreting the prediction\n",
        "if prediction[0] == 'REAL':\n",
        "    print(\"The news is Real\")\n",
        "else:\n",
        "    print(\"The news is Fake\")"
      ],
      "metadata": {
        "id": "Jnr48wEJ9w_i"
      },
      "execution_count": null,
      "outputs": []
    },
    {
      "cell_type": "code",
      "source": [
        "# Printing the actual label for the sixteenth data point\n",
        "print(y_test.iloc[15])"
      ],
      "metadata": {
        "id": "Fb4GEkQl93Dg"
      },
      "execution_count": null,
      "outputs": []
    },
    {
      "cell_type": "code",
      "source": [
        "# Selecting the twentieth data point from the test set\n",
        "x_new = x_test[19]\n",
        "\n",
        "# Making a prediction using the trained model\n",
        "prediction = model.predict(x_new)\n",
        "print(prediction)\n",
        "\n",
        "# Interpreting the prediction\n",
        "if prediction[0] == 'REAL':\n",
        "    print(\"The news is Real\")\n",
        "else:\n",
        "    print(\"The news is Fake\")"
      ],
      "metadata": {
        "id": "qfqrzQSV9xyw"
      },
      "execution_count": null,
      "outputs": []
    },
    {
      "cell_type": "code",
      "source": [
        "# Printing the actual label for the twentieth data point\n",
        "print(y_test.iloc[19])"
      ],
      "metadata": {
        "id": "GiyvcRNr931h"
      },
      "execution_count": null,
      "outputs": []
    },
    {
      "cell_type": "code",
      "source": [
        "import joblib\n",
        "joblib.dump(model, 'model.pkl')\n"
      ],
      "metadata": {
        "colab": {
          "base_uri": "https://localhost:8080/"
        },
        "id": "rS3Pwqe6-vdB",
        "outputId": "ba574972-6e8a-4417-c8f2-1effbd774b46"
      },
      "execution_count": 45,
      "outputs": [
        {
          "output_type": "execute_result",
          "data": {
            "text/plain": [
              "['model.pkl']"
            ]
          },
          "metadata": {},
          "execution_count": 45
        }
      ]
    },
    {
      "cell_type": "code",
      "source": [
        "from google.colab import files\n",
        "files.download('model.pkl')\n"
      ],
      "metadata": {
        "colab": {
          "base_uri": "https://localhost:8080/",
          "height": 17
        },
        "id": "i5iO3kTI_Bzj",
        "outputId": "225dd2f9-9618-4da3-d087-319f102c603a"
      },
      "execution_count": 47,
      "outputs": [
        {
          "output_type": "display_data",
          "data": {
            "text/plain": [
              "<IPython.core.display.Javascript object>"
            ],
            "application/javascript": [
              "\n",
              "    async function download(id, filename, size) {\n",
              "      if (!google.colab.kernel.accessAllowed) {\n",
              "        return;\n",
              "      }\n",
              "      const div = document.createElement('div');\n",
              "      const label = document.createElement('label');\n",
              "      label.textContent = `Downloading \"${filename}\": `;\n",
              "      div.appendChild(label);\n",
              "      const progress = document.createElement('progress');\n",
              "      progress.max = size;\n",
              "      div.appendChild(progress);\n",
              "      document.body.appendChild(div);\n",
              "\n",
              "      const buffers = [];\n",
              "      let downloaded = 0;\n",
              "\n",
              "      const channel = await google.colab.kernel.comms.open(id);\n",
              "      // Send a message to notify the kernel that we're ready.\n",
              "      channel.send({})\n",
              "\n",
              "      for await (const message of channel.messages) {\n",
              "        // Send a message to notify the kernel that we're ready.\n",
              "        channel.send({})\n",
              "        if (message.buffers) {\n",
              "          for (const buffer of message.buffers) {\n",
              "            buffers.push(buffer);\n",
              "            downloaded += buffer.byteLength;\n",
              "            progress.value = downloaded;\n",
              "          }\n",
              "        }\n",
              "      }\n",
              "      const blob = new Blob(buffers, {type: 'application/binary'});\n",
              "      const a = document.createElement('a');\n",
              "      a.href = window.URL.createObjectURL(blob);\n",
              "      a.download = filename;\n",
              "      div.appendChild(a);\n",
              "      a.click();\n",
              "      div.remove();\n",
              "    }\n",
              "  "
            ]
          },
          "metadata": {}
        },
        {
          "output_type": "display_data",
          "data": {
            "text/plain": [
              "<IPython.core.display.Javascript object>"
            ],
            "application/javascript": [
              "download(\"download_86c39f82-f882-45ac-bbbe-8845c428c8df\", \"model.pkl\", 544431)"
            ]
          },
          "metadata": {}
        }
      ]
    },
    {
      "cell_type": "code",
      "source": [
        "joblib.dump(vectorizer, 'vectorizer.pkl')\n",
        "files.download('vectorizer.pkl')\n"
      ],
      "metadata": {
        "colab": {
          "base_uri": "https://localhost:8080/",
          "height": 17
        },
        "id": "PZFJCNiw_FZB",
        "outputId": "ea075adc-37f1-4082-ca01-2fcaf8c2d3a3"
      },
      "execution_count": 48,
      "outputs": [
        {
          "output_type": "display_data",
          "data": {
            "text/plain": [
              "<IPython.core.display.Javascript object>"
            ],
            "application/javascript": [
              "\n",
              "    async function download(id, filename, size) {\n",
              "      if (!google.colab.kernel.accessAllowed) {\n",
              "        return;\n",
              "      }\n",
              "      const div = document.createElement('div');\n",
              "      const label = document.createElement('label');\n",
              "      label.textContent = `Downloading \"${filename}\": `;\n",
              "      div.appendChild(label);\n",
              "      const progress = document.createElement('progress');\n",
              "      progress.max = size;\n",
              "      div.appendChild(progress);\n",
              "      document.body.appendChild(div);\n",
              "\n",
              "      const buffers = [];\n",
              "      let downloaded = 0;\n",
              "\n",
              "      const channel = await google.colab.kernel.comms.open(id);\n",
              "      // Send a message to notify the kernel that we're ready.\n",
              "      channel.send({})\n",
              "\n",
              "      for await (const message of channel.messages) {\n",
              "        // Send a message to notify the kernel that we're ready.\n",
              "        channel.send({})\n",
              "        if (message.buffers) {\n",
              "          for (const buffer of message.buffers) {\n",
              "            buffers.push(buffer);\n",
              "            downloaded += buffer.byteLength;\n",
              "            progress.value = downloaded;\n",
              "          }\n",
              "        }\n",
              "      }\n",
              "      const blob = new Blob(buffers, {type: 'application/binary'});\n",
              "      const a = document.createElement('a');\n",
              "      a.href = window.URL.createObjectURL(blob);\n",
              "      a.download = filename;\n",
              "      div.appendChild(a);\n",
              "      a.click();\n",
              "      div.remove();\n",
              "    }\n",
              "  "
            ]
          },
          "metadata": {}
        },
        {
          "output_type": "display_data",
          "data": {
            "text/plain": [
              "<IPython.core.display.Javascript object>"
            ],
            "application/javascript": [
              "download(\"download_10573418-bd38-46d7-a5e7-dad376ef0c21\", \"vectorizer.pkl\", 844)"
            ]
          },
          "metadata": {}
        }
      ]
    }
  ]
}